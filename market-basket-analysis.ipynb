{
 "cells": [
  {
   "cell_type": "markdown",
   "metadata": {},
   "source": [
    "# Market Basket Analysis (MBA)"
   ]
  },
  {
   "cell_type": "markdown",
   "metadata": {},
   "source": [
    "# <a name=\"understanding-mba\">Understanding MBA</a> \n",
    "By extracting associations or co-occurrences from shop transactional databases, market basket analysis (MBA), often referred to as association-rule mining, is a helpful technique for identifying client purchasing trends (Chen et al., 2005).  This modeling technique is predicated on the idea that purchasing a particular group of goods increases or decreases your likelihood of purchasing an other group of goods. For instance, if you purchase a loaf of bread at a grocery store, you are more likely than someone who didn't purchase the bread to also purchase a packet of butter at the same time."
   ]
  },
  {
   "cell_type": "markdown",
   "metadata": {},
   "source": [
    "\n",
    "An itemset is the collection of products a consumer purchases, and MBA looks for connections in the itemset purchases. A set of product association rules is what the MBA produces. We can use MBA to extract interesting product association rules from transaction data that has been taken out of online retailers' shopping carts or retail stores' point of sale systems. Customers are likely to purchase product B if they purchase product A, for instance.\n",
    "\n",
    "Usually, we are able to derive the relationship between the products as a rule. Here is an illustration of an association rule:\n",
    "\n",
    "    IF {bread} THEN {butter}. \n",
    "\n",
    "In this instance, people are more likely to purchase butter if they purchase bread. High-association products are frequently associated with \"complementary goods\" by some people.\n",
    "\n",
    "***\n",
    "## Applications ##\n",
    "There are many real-life applications of MBA:\n",
    "- **Recommendation engine** - displays similar products as \"Frequently bought together\" or \"Customers Who Bought This Item Also Bought\" (as demonstrated in the above Amazon example). By examining the news items and videos that are frequently read or seen together during a user session, it can also be used to suggest news articles and videos.\n",
    "<br>\n",
    "<br>\n",
    "- **Cross-sell / bundle products**: offering related products as a \"bundle\" as opposed to single ones. Transaction data can reveal, for instance, that buyers frequently purchase a screen protector along with a new phone. Retailers of phones can then increase their revenues by bundling a new phone with a high-margin screen cover and selling them together.\n",
    "<br>\n"
   ]
  },
  {
   "cell_type": "markdown",
   "metadata": {},
   "source": [
    "## Import libraries ##"
   ]
  },
  {
   "cell_type": "code",
   "execution_count": 4,
   "metadata": {},
   "outputs": [
    {
     "name": "stderr",
     "output_type": "stream",
     "text": [
      "C:\\ProgramData\\Anaconda3\\lib\\site-packages\\ipykernel\\ipkernel.py:287: DeprecationWarning: `should_run_async` will not call `transform_cell` automatically in the future. Please pass the result to `transformed_cell` argument and any exception that happen during thetransform in `preprocessing_exc_tuple` in IPython 7.17 and above.\n",
      "  and should_run_async(code)\n"
     ]
    }
   ],
   "source": [
    "# import the libraries required\n",
    "%matplotlib inline\n",
    "import numpy as np \n",
    "import pandas as pd\n",
    "import matplotlib.pyplot as plt\n",
    "import warnings\n",
    "from datetime import datetime\n",
    "import seaborn as sns\n",
    "import matplotlib.pyplot as plt\n",
    "warnings.filterwarnings(\"ignore\", category=DeprecationWarning)\n",
    "from mlxtend.frequent_patterns import apriori\n",
    "from mlxtend.frequent_patterns import association_rules"
   ]
  },
  {
   "cell_type": "markdown",
   "metadata": {},
   "source": [
    "## Load data ##"
   ]
  },
  {
   "cell_type": "code",
   "execution_count": 5,
   "metadata": {},
   "outputs": [
    {
     "data": {
      "text/html": [
       "<div>\n",
       "<style scoped>\n",
       "    .dataframe tbody tr th:only-of-type {\n",
       "        vertical-align: middle;\n",
       "    }\n",
       "\n",
       "    .dataframe tbody tr th {\n",
       "        vertical-align: top;\n",
       "    }\n",
       "\n",
       "    .dataframe thead th {\n",
       "        text-align: right;\n",
       "    }\n",
       "</style>\n",
       "<table border=\"1\" class=\"dataframe\">\n",
       "  <thead>\n",
       "    <tr style=\"text-align: right;\">\n",
       "      <th></th>\n",
       "      <th>Date</th>\n",
       "      <th>Time</th>\n",
       "      <th>Transaction</th>\n",
       "      <th>Item</th>\n",
       "    </tr>\n",
       "  </thead>\n",
       "  <tbody>\n",
       "    <tr>\n",
       "      <th>0</th>\n",
       "      <td>30-10-2016</td>\n",
       "      <td>09:58:11</td>\n",
       "      <td>1</td>\n",
       "      <td>Bread</td>\n",
       "    </tr>\n",
       "    <tr>\n",
       "      <th>1</th>\n",
       "      <td>30-10-2016</td>\n",
       "      <td>10:05:34</td>\n",
       "      <td>2</td>\n",
       "      <td>Scandinavian</td>\n",
       "    </tr>\n",
       "    <tr>\n",
       "      <th>2</th>\n",
       "      <td>30-10-2016</td>\n",
       "      <td>10:05:34</td>\n",
       "      <td>2</td>\n",
       "      <td>Scandinavian</td>\n",
       "    </tr>\n",
       "    <tr>\n",
       "      <th>3</th>\n",
       "      <td>30-10-2016</td>\n",
       "      <td>10:07:57</td>\n",
       "      <td>3</td>\n",
       "      <td>Hot chocolate</td>\n",
       "    </tr>\n",
       "    <tr>\n",
       "      <th>4</th>\n",
       "      <td>30-10-2016</td>\n",
       "      <td>10:07:57</td>\n",
       "      <td>3</td>\n",
       "      <td>Jam</td>\n",
       "    </tr>\n",
       "    <tr>\n",
       "      <th>5</th>\n",
       "      <td>30-10-2016</td>\n",
       "      <td>10:07:57</td>\n",
       "      <td>3</td>\n",
       "      <td>Cookies</td>\n",
       "    </tr>\n",
       "    <tr>\n",
       "      <th>6</th>\n",
       "      <td>30-10-2016</td>\n",
       "      <td>10:08:41</td>\n",
       "      <td>4</td>\n",
       "      <td>Muffin</td>\n",
       "    </tr>\n",
       "    <tr>\n",
       "      <th>7</th>\n",
       "      <td>30-10-2016</td>\n",
       "      <td>10:13:03</td>\n",
       "      <td>5</td>\n",
       "      <td>Coffee</td>\n",
       "    </tr>\n",
       "    <tr>\n",
       "      <th>8</th>\n",
       "      <td>30-10-2016</td>\n",
       "      <td>10:13:03</td>\n",
       "      <td>5</td>\n",
       "      <td>Pastry</td>\n",
       "    </tr>\n",
       "    <tr>\n",
       "      <th>9</th>\n",
       "      <td>30-10-2016</td>\n",
       "      <td>10:13:03</td>\n",
       "      <td>5</td>\n",
       "      <td>Bread</td>\n",
       "    </tr>\n",
       "  </tbody>\n",
       "</table>\n",
       "</div>"
      ],
      "text/plain": [
       "         Date      Time  Transaction           Item\n",
       "0  30-10-2016  09:58:11            1          Bread\n",
       "1  30-10-2016  10:05:34            2   Scandinavian\n",
       "2  30-10-2016  10:05:34            2   Scandinavian\n",
       "3  30-10-2016  10:07:57            3  Hot chocolate\n",
       "4  30-10-2016  10:07:57            3            Jam\n",
       "5  30-10-2016  10:07:57            3        Cookies\n",
       "6  30-10-2016  10:08:41            4         Muffin\n",
       "7  30-10-2016  10:13:03            5         Coffee\n",
       "8  30-10-2016  10:13:03            5         Pastry\n",
       "9  30-10-2016  10:13:03            5          Bread"
      ]
     },
     "execution_count": 5,
     "metadata": {},
     "output_type": "execute_result"
    }
   ],
   "source": [
    "# load the data into a pandas dataframe and take a look at the first 10 rows\n",
    "basket = pd.read_csv(\"BreadBasket_DMS.csv\")\n",
    "basket.head(10)"
   ]
  },
  {
   "cell_type": "code",
   "execution_count": 6,
   "metadata": {},
   "outputs": [
    {
     "name": "stdout",
     "output_type": "stream",
     "text": [
      "<class 'pandas.core.frame.DataFrame'>\n",
      "RangeIndex: 21293 entries, 0 to 21292\n",
      "Data columns (total 4 columns):\n",
      " #   Column       Non-Null Count  Dtype \n",
      "---  ------       --------------  ----- \n",
      " 0   Date         21293 non-null  object\n",
      " 1   Time         21293 non-null  object\n",
      " 2   Transaction  21293 non-null  int64 \n",
      " 3   Item         21293 non-null  object\n",
      "dtypes: int64(1), object(3)\n",
      "memory usage: 665.5+ KB\n"
     ]
    }
   ],
   "source": [
    "# check the summary info of the dataframe\n",
    "basket.info()"
   ]
  },
  {
   "cell_type": "code",
   "execution_count": 7,
   "metadata": {},
   "outputs": [
    {
     "data": {
      "text/plain": [
       "(21293, 4)"
      ]
     },
     "execution_count": 7,
     "metadata": {},
     "output_type": "execute_result"
    }
   ],
   "source": [
    "basket.shape"
   ]
  },
  {
   "cell_type": "markdown",
   "metadata": {},
   "source": [
    "**Note:** There are 21,293 rows and 4 columns in the dataframe. `Date` and `Time` columns are encoded in 'object' instead of Datetime, but fortunately there is a `Transaction` column which helps to identify each transaction. `Item` column contains the individual items in that transaction. For example, Transaction No. 3 contains items of \"Hot chocolate\", \"Jam\", and \"Cookies\" which are all transacted in the same time i.e 10.07.57 on 2016-10-30."
   ]
  },
  {
   "cell_type": "code",
   "execution_count": 8,
   "metadata": {},
   "outputs": [
    {
     "data": {
      "text/html": [
       "<div>\n",
       "<style scoped>\n",
       "    .dataframe tbody tr th:only-of-type {\n",
       "        vertical-align: middle;\n",
       "    }\n",
       "\n",
       "    .dataframe tbody tr th {\n",
       "        vertical-align: top;\n",
       "    }\n",
       "\n",
       "    .dataframe thead th {\n",
       "        text-align: right;\n",
       "    }\n",
       "</style>\n",
       "<table border=\"1\" class=\"dataframe\">\n",
       "  <thead>\n",
       "    <tr style=\"text-align: right;\">\n",
       "      <th></th>\n",
       "      <th>Transaction</th>\n",
       "    </tr>\n",
       "  </thead>\n",
       "  <tbody>\n",
       "    <tr>\n",
       "      <th>count</th>\n",
       "      <td>21293.000000</td>\n",
       "    </tr>\n",
       "    <tr>\n",
       "      <th>mean</th>\n",
       "      <td>4951.990889</td>\n",
       "    </tr>\n",
       "    <tr>\n",
       "      <th>std</th>\n",
       "      <td>2787.758400</td>\n",
       "    </tr>\n",
       "    <tr>\n",
       "      <th>min</th>\n",
       "      <td>1.000000</td>\n",
       "    </tr>\n",
       "    <tr>\n",
       "      <th>25%</th>\n",
       "      <td>2548.000000</td>\n",
       "    </tr>\n",
       "    <tr>\n",
       "      <th>50%</th>\n",
       "      <td>5067.000000</td>\n",
       "    </tr>\n",
       "    <tr>\n",
       "      <th>75%</th>\n",
       "      <td>7329.000000</td>\n",
       "    </tr>\n",
       "    <tr>\n",
       "      <th>max</th>\n",
       "      <td>9684.000000</td>\n",
       "    </tr>\n",
       "  </tbody>\n",
       "</table>\n",
       "</div>"
      ],
      "text/plain": [
       "        Transaction\n",
       "count  21293.000000\n",
       "mean    4951.990889\n",
       "std     2787.758400\n",
       "min        1.000000\n",
       "25%     2548.000000\n",
       "50%     5067.000000\n",
       "75%     7329.000000\n",
       "max     9684.000000"
      ]
     },
     "execution_count": 8,
     "metadata": {},
     "output_type": "execute_result"
    }
   ],
   "source": [
    "basket.describe()"
   ]
  },
  {
   "cell_type": "markdown",
   "metadata": {},
   "source": [
    "***\n",
    "# Exploratory Data Analysis #"
   ]
  },
  {
   "cell_type": "markdown",
   "metadata": {},
   "source": [
    "***\n",
    "## Check for Missing Values ##"
   ]
  },
  {
   "cell_type": "code",
   "execution_count": 9,
   "metadata": {},
   "outputs": [
    {
     "data": {
      "text/plain": [
       "Date           0\n",
       "Time           0\n",
       "Transaction    0\n",
       "Item           0\n",
       "dtype: int64"
      ]
     },
     "execution_count": 9,
     "metadata": {},
     "output_type": "execute_result"
    }
   ],
   "source": [
    "# check for missing values\n",
    "basket.isnull().sum()"
   ]
  },
  {
   "cell_type": "code",
   "execution_count": 10,
   "metadata": {},
   "outputs": [
    {
     "name": "stdout",
     "output_type": "stream",
     "text": [
      "There are 786 missing values in the dataframe.\n",
      "Date           0\n",
      "Time           0\n",
      "Transaction    0\n",
      "Item           0\n",
      "dtype: int64\n"
     ]
    }
   ],
   "source": [
    "missing_value = [\"NaN\", \"NONE\", \"None\", \"Nil\", \"nan\", \"none\", \"nil\", 0]\n",
    "print(\"There are {0} missing values in the dataframe.\".format(len(basket[basket.Item.isin(missing_value)])))\n",
    "basket[basket.Item.isin(missing_value)].head(10)\n",
    "print(basket.isna().sum())"
   ]
  },
  {
   "cell_type": "markdown",
   "metadata": {},
   "source": [
    "**Note:** While there is no empty cell in the dataframe, a check using the popular missing value shows that there are 786 rows with \"NONE\" in the column `Item`. Since the items are not recorded, we will have to remove these rows."
   ]
  },
  {
   "cell_type": "code",
   "execution_count": 11,
   "metadata": {},
   "outputs": [
    {
     "name": "stdout",
     "output_type": "stream",
     "text": [
      "Number of rows: 20507\n"
     ]
    },
    {
     "data": {
      "text/html": [
       "<div>\n",
       "<style scoped>\n",
       "    .dataframe tbody tr th:only-of-type {\n",
       "        vertical-align: middle;\n",
       "    }\n",
       "\n",
       "    .dataframe tbody tr th {\n",
       "        vertical-align: top;\n",
       "    }\n",
       "\n",
       "    .dataframe thead th {\n",
       "        text-align: right;\n",
       "    }\n",
       "</style>\n",
       "<table border=\"1\" class=\"dataframe\">\n",
       "  <thead>\n",
       "    <tr style=\"text-align: right;\">\n",
       "      <th></th>\n",
       "      <th>Date</th>\n",
       "      <th>Time</th>\n",
       "      <th>Transaction</th>\n",
       "      <th>Item</th>\n",
       "    </tr>\n",
       "  </thead>\n",
       "  <tbody>\n",
       "    <tr>\n",
       "      <th>0</th>\n",
       "      <td>30-10-2016</td>\n",
       "      <td>09:58:11</td>\n",
       "      <td>1</td>\n",
       "      <td>Bread</td>\n",
       "    </tr>\n",
       "    <tr>\n",
       "      <th>1</th>\n",
       "      <td>30-10-2016</td>\n",
       "      <td>10:05:34</td>\n",
       "      <td>2</td>\n",
       "      <td>Scandinavian</td>\n",
       "    </tr>\n",
       "    <tr>\n",
       "      <th>2</th>\n",
       "      <td>30-10-2016</td>\n",
       "      <td>10:05:34</td>\n",
       "      <td>2</td>\n",
       "      <td>Scandinavian</td>\n",
       "    </tr>\n",
       "    <tr>\n",
       "      <th>3</th>\n",
       "      <td>30-10-2016</td>\n",
       "      <td>10:07:57</td>\n",
       "      <td>3</td>\n",
       "      <td>Hot chocolate</td>\n",
       "    </tr>\n",
       "    <tr>\n",
       "      <th>4</th>\n",
       "      <td>30-10-2016</td>\n",
       "      <td>10:07:57</td>\n",
       "      <td>3</td>\n",
       "      <td>Jam</td>\n",
       "    </tr>\n",
       "    <tr>\n",
       "      <th>5</th>\n",
       "      <td>30-10-2016</td>\n",
       "      <td>10:07:57</td>\n",
       "      <td>3</td>\n",
       "      <td>Cookies</td>\n",
       "    </tr>\n",
       "    <tr>\n",
       "      <th>6</th>\n",
       "      <td>30-10-2016</td>\n",
       "      <td>10:08:41</td>\n",
       "      <td>4</td>\n",
       "      <td>Muffin</td>\n",
       "    </tr>\n",
       "    <tr>\n",
       "      <th>7</th>\n",
       "      <td>30-10-2016</td>\n",
       "      <td>10:13:03</td>\n",
       "      <td>5</td>\n",
       "      <td>Coffee</td>\n",
       "    </tr>\n",
       "    <tr>\n",
       "      <th>8</th>\n",
       "      <td>30-10-2016</td>\n",
       "      <td>10:13:03</td>\n",
       "      <td>5</td>\n",
       "      <td>Pastry</td>\n",
       "    </tr>\n",
       "    <tr>\n",
       "      <th>9</th>\n",
       "      <td>30-10-2016</td>\n",
       "      <td>10:13:03</td>\n",
       "      <td>5</td>\n",
       "      <td>Bread</td>\n",
       "    </tr>\n",
       "  </tbody>\n",
       "</table>\n",
       "</div>"
      ],
      "text/plain": [
       "         Date      Time  Transaction           Item\n",
       "0  30-10-2016  09:58:11            1          Bread\n",
       "1  30-10-2016  10:05:34            2   Scandinavian\n",
       "2  30-10-2016  10:05:34            2   Scandinavian\n",
       "3  30-10-2016  10:07:57            3  Hot chocolate\n",
       "4  30-10-2016  10:07:57            3            Jam\n",
       "5  30-10-2016  10:07:57            3        Cookies\n",
       "6  30-10-2016  10:08:41            4         Muffin\n",
       "7  30-10-2016  10:13:03            5         Coffee\n",
       "8  30-10-2016  10:13:03            5         Pastry\n",
       "9  30-10-2016  10:13:03            5          Bread"
      ]
     },
     "execution_count": 11,
     "metadata": {},
     "output_type": "execute_result"
    }
   ],
   "source": [
    "basket = basket.drop(basket[basket.Item == \"NONE\"].index)\n",
    "print(\"Number of rows: {0}\".format(len(basket)))\n",
    "basket.head(10)"
   ]
  },
  {
   "cell_type": "markdown",
   "metadata": {},
   "source": [
    "**Note:** After removing the missing values, the number of rows left is 20,507 (original 21,293 minus 786 missing)"
   ]
  },
  {
   "cell_type": "markdown",
   "metadata": {},
   "source": [
    "***\n",
    "## Convert to DatetimeIndex ##"
   ]
  },
  {
   "cell_type": "code",
   "execution_count": 12,
   "metadata": {},
   "outputs": [
    {
     "data": {
      "text/html": [
       "<div>\n",
       "<style scoped>\n",
       "    .dataframe tbody tr th:only-of-type {\n",
       "        vertical-align: middle;\n",
       "    }\n",
       "\n",
       "    .dataframe tbody tr th {\n",
       "        vertical-align: top;\n",
       "    }\n",
       "\n",
       "    .dataframe thead th {\n",
       "        text-align: right;\n",
       "    }\n",
       "</style>\n",
       "<table border=\"1\" class=\"dataframe\">\n",
       "  <thead>\n",
       "    <tr style=\"text-align: right;\">\n",
       "      <th></th>\n",
       "      <th>Transaction</th>\n",
       "      <th>Item</th>\n",
       "    </tr>\n",
       "    <tr>\n",
       "      <th>Datetime</th>\n",
       "      <th></th>\n",
       "      <th></th>\n",
       "    </tr>\n",
       "  </thead>\n",
       "  <tbody>\n",
       "    <tr>\n",
       "      <th>2016-10-30 09:58:11</th>\n",
       "      <td>1</td>\n",
       "      <td>Bread</td>\n",
       "    </tr>\n",
       "    <tr>\n",
       "      <th>2016-10-30 10:05:34</th>\n",
       "      <td>2</td>\n",
       "      <td>Scandinavian</td>\n",
       "    </tr>\n",
       "    <tr>\n",
       "      <th>2016-10-30 10:05:34</th>\n",
       "      <td>2</td>\n",
       "      <td>Scandinavian</td>\n",
       "    </tr>\n",
       "    <tr>\n",
       "      <th>2016-10-30 10:07:57</th>\n",
       "      <td>3</td>\n",
       "      <td>Hot chocolate</td>\n",
       "    </tr>\n",
       "    <tr>\n",
       "      <th>2016-10-30 10:07:57</th>\n",
       "      <td>3</td>\n",
       "      <td>Jam</td>\n",
       "    </tr>\n",
       "    <tr>\n",
       "      <th>2016-10-30 10:07:57</th>\n",
       "      <td>3</td>\n",
       "      <td>Cookies</td>\n",
       "    </tr>\n",
       "    <tr>\n",
       "      <th>2016-10-30 10:08:41</th>\n",
       "      <td>4</td>\n",
       "      <td>Muffin</td>\n",
       "    </tr>\n",
       "    <tr>\n",
       "      <th>2016-10-30 10:13:03</th>\n",
       "      <td>5</td>\n",
       "      <td>Coffee</td>\n",
       "    </tr>\n",
       "    <tr>\n",
       "      <th>2016-10-30 10:13:03</th>\n",
       "      <td>5</td>\n",
       "      <td>Pastry</td>\n",
       "    </tr>\n",
       "    <tr>\n",
       "      <th>2016-10-30 10:13:03</th>\n",
       "      <td>5</td>\n",
       "      <td>Bread</td>\n",
       "    </tr>\n",
       "  </tbody>\n",
       "</table>\n",
       "</div>"
      ],
      "text/plain": [
       "                     Transaction           Item\n",
       "Datetime                                       \n",
       "2016-10-30 09:58:11            1          Bread\n",
       "2016-10-30 10:05:34            2   Scandinavian\n",
       "2016-10-30 10:05:34            2   Scandinavian\n",
       "2016-10-30 10:07:57            3  Hot chocolate\n",
       "2016-10-30 10:07:57            3            Jam\n",
       "2016-10-30 10:07:57            3        Cookies\n",
       "2016-10-30 10:08:41            4         Muffin\n",
       "2016-10-30 10:13:03            5         Coffee\n",
       "2016-10-30 10:13:03            5         Pastry\n",
       "2016-10-30 10:13:03            5          Bread"
      ]
     },
     "execution_count": 12,
     "metadata": {},
     "output_type": "execute_result"
    }
   ],
   "source": [
    "basket['Datetime'] = pd.to_datetime(basket['Date']+' '+basket['Time'])\n",
    "basket = basket[[\"Datetime\", \"Transaction\", \"Item\"]].set_index(\"Datetime\")\n",
    "basket.head(10)"
   ]
  },
  {
   "cell_type": "code",
   "execution_count": 13,
   "metadata": {},
   "outputs": [
    {
     "name": "stdout",
     "output_type": "stream",
     "text": [
      "There are 94 unique items sold by the Bakery\n",
      "Total 20507 items sold in 159 days throughout 12 months\n",
      "With an average of 128.9748427672956 items sold daily\n"
     ]
    }
   ],
   "source": [
    "total_items = len(basket)\n",
    "total_days = len(np.unique(basket.index.date))\n",
    "total_months = len(np.unique(basket.index.month))\n",
    "average_items = total_items / total_days\n",
    "unique_items = basket.Item.unique().size\n",
    "\n",
    "print(\"There are {} unique items sold by the Bakery\".format(unique_items))\n",
    "print(\"Total {} items sold in {} days throughout {} months\".format(total_items, total_days, total_months))\n",
    "print(\"With an average of {} items sold daily\".format(average_items))\n"
   ]
  },
  {
   "cell_type": "markdown",
   "metadata": {},
   "source": [
    "**Note:** We have combined the `Date` and `Time` columns into a single `Datetime` column, convert it into datetime64 type, and then set it as DatetimeIndex. This will make it easier to plot the time series charts later on. Also, a quick look at the data shows that the Bakery sold an average of 129 items daily."
   ]
  },
  {
   "cell_type": "markdown",
   "metadata": {},
   "source": [
    "***\n",
    "## Visualisation ##"
   ]
  },
  {
   "cell_type": "code",
   "execution_count": 14,
   "metadata": {},
   "outputs": [
    {
     "data": {
      "image/png": "[encoded data removed]",
      "text/plain": [
       "<Figure size 720x432 with 1 Axes>"
      ]
     },
     "metadata": {
      "needs_background": "light"
     },
     "output_type": "display_data"
    }
   ],
   "source": [
    "# Calculate the top 10 items based on some criteria, for example, the frequency of each item\n",
    "top_10_items = basket['Item'].value_counts().nlargest(10).index\n",
    "\n",
    "# Filter the DataFrame to include only the top 10 items\n",
    "basket_top_10 = basket[basket['Item'].isin(top_10_items)]\n",
    "\n",
    "# Create the histplot using seaborn\n",
    "plt.figure(figsize=(10, 6))\n",
    "sns.histplot(x='Item', data=basket_top_10)\n",
    "\n",
    "plt.show()"
   ]
  },
  {
   "cell_type": "markdown",
   "metadata": {},
   "source": [
    "Histogram of the top 10 items with its count is plotted. Coffee is largely purchased followed by Bread,Tea,Cake,Pastry. "
   ]
  },
  {
   "cell_type": "code",
   "execution_count": 15,
   "metadata": {},
   "outputs": [
    {
     "data": {
      "image/png": "[encoded data removed]",
      "text/plain": [
       "<Figure size 720x432 with 1 Axes>"
      ]
     },
     "metadata": {
      "needs_background": "light"
     },
     "output_type": "display_data"
    }
   ],
   "source": [
    "# Create the boxplot using seaborn\n",
    "plt.figure(figsize=(10, 6))\n",
    "sns.boxplot(x=\"Item\", y='Transaction', data=basket_top_10)\n",
    "\n",
    "plt.show()"
   ]
  },
  {
   "cell_type": "code",
   "execution_count": 16,
   "metadata": {},
   "outputs": [
    {
     "data": {
      "text/plain": [
       "<AxesSubplot:title={'center':'Top 20 Sales'}>"
      ]
     },
     "execution_count": 16,
     "metadata": {},
     "output_type": "execute_result"
    },
    {
     "data": {
      "image/png": "[encoded data removed]",
      "text/plain": [
       "<Figure size 1440x720 with 1 Axes>"
      ]
     },
     "metadata": {
      "needs_background": "light"
     },
     "output_type": "display_data"
    }
   ],
   "source": [
    "plt.figure(figsize=(20,10))\n",
    "basket['Item'].value_counts()[:20].sort_values().plot.barh(title='Top 20 Sales',grid=True)"
   ]
  },
  {
   "cell_type": "code",
   "execution_count": 17,
   "metadata": {},
   "outputs": [
    {
     "data": {
      "text/plain": [
       "<AxesSubplot:title={'center':'Least 20 Sales'}>"
      ]
     },
     "execution_count": 17,
     "metadata": {},
     "output_type": "execute_result"
    },
    {
     "data": {
      "image/png": "[encoded data removed]",
      "text/plain": [
       "<Figure size 1440x720 with 1 Axes>"
      ]
     },
     "metadata": {
      "needs_background": "light"
     },
     "output_type": "display_data"
    }
   ],
   "source": [
    "plt.figure(figsize=(20,10))\n",
    "basket['Item'].value_counts()[-20:-1].sort_values().plot.barh(title='Least 20 Sales',grid=True)"
   ]
  },
  {
   "cell_type": "markdown",
   "metadata": {},
   "source": [
    "Bare Popcorn is least purchased product followed by Bread Pudding, Caramel bites."
   ]
  },
  {
   "cell_type": "code",
   "execution_count": 18,
   "metadata": {},
   "outputs": [],
   "source": [
    "def add_datetime_features(df):\n",
    "    # sleep: 12-5, 6-9: breakfast, 10-14: lunch, 14-17: dinner prep, 17-21: dinner, 21-23: deserts!\n",
    "    \n",
    "    df['Time'] = df.index.time\n",
    "    hour = df['Time'].apply(lambda ts: ts.hour)\n",
    "    df['Hour'],df['Time_Of_Day'] = hour,hour\n",
    "    df['Time_Of_Day'].replace([i for i in range(0,6)], 'Sleep',inplace=True)\n",
    "    df['Time_Of_Day'].replace([i for i in range(6,10)], 'Breakfast',inplace=True)\n",
    "    df['Time_Of_Day'].replace([i for i in range(10,14)], 'Lunch',inplace=True)\n",
    "    df['Time_Of_Day'].replace([i for i in range(14,17)], 'Dinner Prep',inplace=True)\n",
    "    df['Time_Of_Day'].replace([i for i in range(17,21)], 'Dinner',inplace=True)\n",
    "    df['Time_Of_Day'].replace([i for i in range(21,24)], 'Deserts',inplace=True)\n",
    "    df.drop('Time',axis=1,inplace=True)\n",
    "    \n",
    "    df['Season'] = df.index.month\n",
    "    df['Season'].replace([1,2,12], 'Winter',inplace=True)\n",
    "    df['Season'].replace([i for i in range(3,6)], 'Spring',inplace=True)\n",
    "    df['Season'].replace([i for i in range(6,9)], 'Summer',inplace=True)\n",
    "    df['Season'].replace([i for i in range(9,12)], 'Fall',inplace=True) \n",
    "    #add_datepart(df, Datetime)\n",
    "    return df"
   ]
  },
  {
   "cell_type": "code",
   "execution_count": 19,
   "metadata": {},
   "outputs": [
    {
     "data": {
      "text/html": [
       "<div>\n",
       "<style scoped>\n",
       "    .dataframe tbody tr th:only-of-type {\n",
       "        vertical-align: middle;\n",
       "    }\n",
       "\n",
       "    .dataframe tbody tr th {\n",
       "        vertical-align: top;\n",
       "    }\n",
       "\n",
       "    .dataframe thead th {\n",
       "        text-align: right;\n",
       "    }\n",
       "</style>\n",
       "<table border=\"1\" class=\"dataframe\">\n",
       "  <thead>\n",
       "    <tr style=\"text-align: right;\">\n",
       "      <th></th>\n",
       "      <th>Transaction</th>\n",
       "      <th>Item</th>\n",
       "      <th>Hour</th>\n",
       "      <th>Time_Of_Day</th>\n",
       "      <th>Season</th>\n",
       "    </tr>\n",
       "    <tr>\n",
       "      <th>Datetime</th>\n",
       "      <th></th>\n",
       "      <th></th>\n",
       "      <th></th>\n",
       "      <th></th>\n",
       "      <th></th>\n",
       "    </tr>\n",
       "  </thead>\n",
       "  <tbody>\n",
       "    <tr>\n",
       "      <th>2016-10-30 09:58:11</th>\n",
       "      <td>1</td>\n",
       "      <td>Bread</td>\n",
       "      <td>9</td>\n",
       "      <td>Breakfast</td>\n",
       "      <td>Fall</td>\n",
       "    </tr>\n",
       "    <tr>\n",
       "      <th>2016-10-30 10:05:34</th>\n",
       "      <td>2</td>\n",
       "      <td>Scandinavian</td>\n",
       "      <td>10</td>\n",
       "      <td>Lunch</td>\n",
       "      <td>Fall</td>\n",
       "    </tr>\n",
       "    <tr>\n",
       "      <th>2016-10-30 10:05:34</th>\n",
       "      <td>2</td>\n",
       "      <td>Scandinavian</td>\n",
       "      <td>10</td>\n",
       "      <td>Lunch</td>\n",
       "      <td>Fall</td>\n",
       "    </tr>\n",
       "    <tr>\n",
       "      <th>2016-10-30 10:07:57</th>\n",
       "      <td>3</td>\n",
       "      <td>Hot chocolate</td>\n",
       "      <td>10</td>\n",
       "      <td>Lunch</td>\n",
       "      <td>Fall</td>\n",
       "    </tr>\n",
       "    <tr>\n",
       "      <th>2016-10-30 10:07:57</th>\n",
       "      <td>3</td>\n",
       "      <td>Jam</td>\n",
       "      <td>10</td>\n",
       "      <td>Lunch</td>\n",
       "      <td>Fall</td>\n",
       "    </tr>\n",
       "    <tr>\n",
       "      <th>2016-10-30 10:07:57</th>\n",
       "      <td>3</td>\n",
       "      <td>Cookies</td>\n",
       "      <td>10</td>\n",
       "      <td>Lunch</td>\n",
       "      <td>Fall</td>\n",
       "    </tr>\n",
       "    <tr>\n",
       "      <th>2016-10-30 10:08:41</th>\n",
       "      <td>4</td>\n",
       "      <td>Muffin</td>\n",
       "      <td>10</td>\n",
       "      <td>Lunch</td>\n",
       "      <td>Fall</td>\n",
       "    </tr>\n",
       "    <tr>\n",
       "      <th>2016-10-30 10:13:03</th>\n",
       "      <td>5</td>\n",
       "      <td>Coffee</td>\n",
       "      <td>10</td>\n",
       "      <td>Lunch</td>\n",
       "      <td>Fall</td>\n",
       "    </tr>\n",
       "    <tr>\n",
       "      <th>2016-10-30 10:13:03</th>\n",
       "      <td>5</td>\n",
       "      <td>Pastry</td>\n",
       "      <td>10</td>\n",
       "      <td>Lunch</td>\n",
       "      <td>Fall</td>\n",
       "    </tr>\n",
       "    <tr>\n",
       "      <th>2016-10-30 10:13:03</th>\n",
       "      <td>5</td>\n",
       "      <td>Bread</td>\n",
       "      <td>10</td>\n",
       "      <td>Lunch</td>\n",
       "      <td>Fall</td>\n",
       "    </tr>\n",
       "  </tbody>\n",
       "</table>\n",
       "</div>"
      ],
      "text/plain": [
       "                     Transaction           Item  Hour Time_Of_Day Season\n",
       "Datetime                                                                \n",
       "2016-10-30 09:58:11            1          Bread     9   Breakfast   Fall\n",
       "2016-10-30 10:05:34            2   Scandinavian    10       Lunch   Fall\n",
       "2016-10-30 10:05:34            2   Scandinavian    10       Lunch   Fall\n",
       "2016-10-30 10:07:57            3  Hot chocolate    10       Lunch   Fall\n",
       "2016-10-30 10:07:57            3            Jam    10       Lunch   Fall\n",
       "2016-10-30 10:07:57            3        Cookies    10       Lunch   Fall\n",
       "2016-10-30 10:08:41            4         Muffin    10       Lunch   Fall\n",
       "2016-10-30 10:13:03            5         Coffee    10       Lunch   Fall\n",
       "2016-10-30 10:13:03            5         Pastry    10       Lunch   Fall\n",
       "2016-10-30 10:13:03            5          Bread    10       Lunch   Fall"
      ]
     },
     "execution_count": 19,
     "metadata": {},
     "output_type": "execute_result"
    }
   ],
   "source": [
    "basket = add_datetime_features(basket)\n",
    "basket.head(10)"
   ]
  },
  {
   "cell_type": "code",
   "execution_count": 20,
   "metadata": {},
   "outputs": [
    {
     "data": {
      "text/html": [
       "<div>\n",
       "<style scoped>\n",
       "    .dataframe tbody tr th:only-of-type {\n",
       "        vertical-align: middle;\n",
       "    }\n",
       "\n",
       "    .dataframe tbody tr th {\n",
       "        vertical-align: top;\n",
       "    }\n",
       "\n",
       "    .dataframe thead tr th {\n",
       "        text-align: left;\n",
       "    }\n",
       "\n",
       "    .dataframe thead tr:last-of-type th {\n",
       "        text-align: right;\n",
       "    }\n",
       "</style>\n",
       "<table border=\"1\" class=\"dataframe\">\n",
       "  <thead>\n",
       "    <tr>\n",
       "      <th></th>\n",
       "      <th colspan=\"21\" halign=\"left\">Item</th>\n",
       "    </tr>\n",
       "    <tr>\n",
       "      <th>Item</th>\n",
       "      <th>Adjustment</th>\n",
       "      <th>Afternoon with the baker</th>\n",
       "      <th>Alfajores</th>\n",
       "      <th>Argentina Night</th>\n",
       "      <th>Art Tray</th>\n",
       "      <th>Bacon</th>\n",
       "      <th>Baguette</th>\n",
       "      <th>Bakewell</th>\n",
       "      <th>Bare Popcorn</th>\n",
       "      <th>Basket</th>\n",
       "      <th>...</th>\n",
       "      <th>The BART</th>\n",
       "      <th>The Nomad</th>\n",
       "      <th>Tiffin</th>\n",
       "      <th>Toast</th>\n",
       "      <th>Truffles</th>\n",
       "      <th>Tshirt</th>\n",
       "      <th>Valentine's card</th>\n",
       "      <th>Vegan Feast</th>\n",
       "      <th>Vegan mincepie</th>\n",
       "      <th>Victorian Sponge</th>\n",
       "    </tr>\n",
       "    <tr>\n",
       "      <th>Season</th>\n",
       "      <th></th>\n",
       "      <th></th>\n",
       "      <th></th>\n",
       "      <th></th>\n",
       "      <th></th>\n",
       "      <th></th>\n",
       "      <th></th>\n",
       "      <th></th>\n",
       "      <th></th>\n",
       "      <th></th>\n",
       "      <th></th>\n",
       "      <th></th>\n",
       "      <th></th>\n",
       "      <th></th>\n",
       "      <th></th>\n",
       "      <th></th>\n",
       "      <th></th>\n",
       "      <th></th>\n",
       "      <th></th>\n",
       "      <th></th>\n",
       "      <th></th>\n",
       "    </tr>\n",
       "  </thead>\n",
       "  <tbody>\n",
       "    <tr>\n",
       "      <th>Fall</th>\n",
       "      <td>1.0</td>\n",
       "      <td>4.0</td>\n",
       "      <td>91.0</td>\n",
       "      <td>1.0</td>\n",
       "      <td>20.0</td>\n",
       "      <td>1.0</td>\n",
       "      <td>13.0</td>\n",
       "      <td>13.0</td>\n",
       "      <td>0.0</td>\n",
       "      <td>2.0</td>\n",
       "      <td>...</td>\n",
       "      <td>0.0</td>\n",
       "      <td>12.0</td>\n",
       "      <td>19.0</td>\n",
       "      <td>36.0</td>\n",
       "      <td>38.0</td>\n",
       "      <td>0.0</td>\n",
       "      <td>4.0</td>\n",
       "      <td>2.0</td>\n",
       "      <td>4.0</td>\n",
       "      <td>4.0</td>\n",
       "    </tr>\n",
       "    <tr>\n",
       "      <th>Spring</th>\n",
       "      <td>0.0</td>\n",
       "      <td>14.0</td>\n",
       "      <td>54.0</td>\n",
       "      <td>1.0</td>\n",
       "      <td>3.0</td>\n",
       "      <td>0.0</td>\n",
       "      <td>56.0</td>\n",
       "      <td>19.0</td>\n",
       "      <td>0.0</td>\n",
       "      <td>3.0</td>\n",
       "      <td>...</td>\n",
       "      <td>1.0</td>\n",
       "      <td>9.0</td>\n",
       "      <td>48.0</td>\n",
       "      <td>91.0</td>\n",
       "      <td>57.0</td>\n",
       "      <td>21.0</td>\n",
       "      <td>5.0</td>\n",
       "      <td>4.0</td>\n",
       "      <td>5.0</td>\n",
       "      <td>1.0</td>\n",
       "    </tr>\n",
       "    <tr>\n",
       "      <th>Summer</th>\n",
       "      <td>0.0</td>\n",
       "      <td>6.0</td>\n",
       "      <td>58.0</td>\n",
       "      <td>4.0</td>\n",
       "      <td>4.0</td>\n",
       "      <td>0.0</td>\n",
       "      <td>15.0</td>\n",
       "      <td>0.0</td>\n",
       "      <td>0.0</td>\n",
       "      <td>1.0</td>\n",
       "      <td>...</td>\n",
       "      <td>0.0</td>\n",
       "      <td>8.0</td>\n",
       "      <td>20.0</td>\n",
       "      <td>37.0</td>\n",
       "      <td>27.0</td>\n",
       "      <td>0.0</td>\n",
       "      <td>0.0</td>\n",
       "      <td>7.0</td>\n",
       "      <td>3.0</td>\n",
       "      <td>1.0</td>\n",
       "    </tr>\n",
       "    <tr>\n",
       "      <th>Winter</th>\n",
       "      <td>0.0</td>\n",
       "      <td>20.0</td>\n",
       "      <td>166.0</td>\n",
       "      <td>1.0</td>\n",
       "      <td>11.0</td>\n",
       "      <td>0.0</td>\n",
       "      <td>68.0</td>\n",
       "      <td>16.0</td>\n",
       "      <td>5.0</td>\n",
       "      <td>0.0</td>\n",
       "      <td>...</td>\n",
       "      <td>0.0</td>\n",
       "      <td>29.0</td>\n",
       "      <td>59.0</td>\n",
       "      <td>154.0</td>\n",
       "      <td>71.0</td>\n",
       "      <td>0.0</td>\n",
       "      <td>4.0</td>\n",
       "      <td>3.0</td>\n",
       "      <td>42.0</td>\n",
       "      <td>1.0</td>\n",
       "    </tr>\n",
       "  </tbody>\n",
       "</table>\n",
       "<p>4 rows × 94 columns</p>\n",
       "</div>"
      ],
      "text/plain": [
       "             Item                                                              \\\n",
       "Item   Adjustment Afternoon with the baker Alfajores Argentina Night Art Tray   \n",
       "Season                                                                          \n",
       "Fall          1.0                      4.0      91.0             1.0     20.0   \n",
       "Spring        0.0                     14.0      54.0             1.0      3.0   \n",
       "Summer        0.0                      6.0      58.0             4.0      4.0   \n",
       "Winter        0.0                     20.0     166.0             1.0     11.0   \n",
       "\n",
       "                                                    ...                     \\\n",
       "Item   Bacon Baguette Bakewell Bare Popcorn Basket  ... The BART The Nomad   \n",
       "Season                                              ...                      \n",
       "Fall     1.0     13.0     13.0          0.0    2.0  ...      0.0      12.0   \n",
       "Spring   0.0     56.0     19.0          0.0    3.0  ...      1.0       9.0   \n",
       "Summer   0.0     15.0      0.0          0.0    1.0  ...      0.0       8.0   \n",
       "Winter   0.0     68.0     16.0          5.0    0.0  ...      0.0      29.0   \n",
       "\n",
       "                                                                   \\\n",
       "Item   Tiffin  Toast Truffles Tshirt Valentine's card Vegan Feast   \n",
       "Season                                                              \n",
       "Fall     19.0   36.0     38.0    0.0              4.0         2.0   \n",
       "Spring   48.0   91.0     57.0   21.0              5.0         4.0   \n",
       "Summer   20.0   37.0     27.0    0.0              0.0         7.0   \n",
       "Winter   59.0  154.0     71.0    0.0              4.0         3.0   \n",
       "\n",
       "                                        \n",
       "Item   Vegan mincepie Victorian Sponge  \n",
       "Season                                  \n",
       "Fall              4.0              4.0  \n",
       "Spring            5.0              1.0  \n",
       "Summer            3.0              1.0  \n",
       "Winter           42.0              1.0  \n",
       "\n",
       "[4 rows x 94 columns]"
      ]
     },
     "execution_count": 20,
     "metadata": {},
     "output_type": "execute_result"
    }
   ],
   "source": [
    "basket.pivot_table(index='Season',columns='Item', aggfunc={'Item':'count'}).fillna(0)"
   ]
  },
  {
   "cell_type": "code",
   "execution_count": 21,
   "metadata": {},
   "outputs": [
    {
     "data": {
      "text/plain": [
       "Text(0.5, 1.0, 'General Transation Trend Throughout The Day')"
      ]
     },
     "execution_count": 21,
     "metadata": {},
     "output_type": "execute_result"
    },
    {
     "data": {
      "image/png": "[encoded data removed]",
      "text/plain": [
       "<Figure size 1440x720 with 1 Axes>"
      ]
     },
     "metadata": {
      "needs_background": "light"
     },
     "output_type": "display_data"
    }
   ],
   "source": [
    "plt.figure(figsize=(20,10))\n",
    "sns.countplot(x='Hour',data=basket,hue='Time_Of_Day').set_title('General Transation Trend Throughout The Day',fontsize=25)"
   ]
  },
  {
   "cell_type": "markdown",
   "metadata": {},
   "source": [
    "From the above plot we can conclude that -\n",
    "  Most of the transaction are made during Lunch. \n",
    "  Also trancsaction during Breakfast and Dinner Prep also fairly significant."
   ]
  },
  {
   "cell_type": "code",
   "execution_count": 22,
   "metadata": {},
   "outputs": [
    {
     "data": {
      "text/plain": [
       "Text(0.5, 1.0, \"Pattern of Transation Trend During Different Season's\")"
      ]
     },
     "execution_count": 22,
     "metadata": {},
     "output_type": "execute_result"
    },
    {
     "data": {
      "image/png": "[encoded data removed]",
      "text/plain": [
       "<Figure size 1440x720 with 1 Axes>"
      ]
     },
     "metadata": {
      "needs_background": "light"
     },
     "output_type": "display_data"
    }
   ],
   "source": [
    "plt.figure(figsize=(20,10))\n",
    "sns.countplot(x='Season',data=basket).set_title('Pattern of Transation Trend During Different Season\\'s',fontsize=25)"
   ]
  },
  {
   "cell_type": "code",
   "execution_count": 23,
   "metadata": {},
   "outputs": [
    {
     "data": {
      "text/plain": [
       "[Text(0.5, 0, 'Item'), Text(0, 0.5, 'Percentage')]"
      ]
     },
     "execution_count": 23,
     "metadata": {},
     "output_type": "execute_result"
    },
    {
     "data": {
      "image/png": "[encoded data removed]",
      "text/plain": [
       "<Figure size 432x288 with 1 Axes>"
      ]
     },
     "metadata": {
      "needs_background": "light"
     },
     "output_type": "display_data"
    }
   ],
   "source": [
    "# create a bar chart, rank by percentage\n",
    "basket.Item.value_counts(normalize=True)[:10].plot(kind=\"bar\", title=\"Percentage of Sales by Item\").set(xlabel=\"Item\", ylabel=\"Percentage\")"
   ]
  },
  {
   "cell_type": "code",
   "execution_count": 24,
   "metadata": {},
   "outputs": [
    {
     "data": {
      "text/plain": [
       "[Text(0.5, 0, 'Item'), Text(0, 0.5, 'Total Number')]"
      ]
     },
     "execution_count": 24,
     "metadata": {},
     "output_type": "execute_result"
    },
    {
     "data": {
      "image/png": "[encoded data removed]",
      "text/plain": [
       "<Figure size 432x288 with 1 Axes>"
      ]
     },
     "metadata": {
      "needs_background": "light"
     },
     "output_type": "display_data"
    }
   ],
   "source": [
    "# create a bar chart, rank by value\n",
    "basket.Item.value_counts()[:10].plot(kind=\"bar\", title=\"Total Number of Sales by Item\").set(xlabel=\"Item\", ylabel=\"Total Number\")"
   ]
  },
  {
   "cell_type": "markdown",
   "metadata": {},
   "source": [
    "**Note:** From the bar charts above, it is clear that Coffee (26.7%) is the best-selling item in the bakery, follow by Bread (16.2%) and Tea (7.0%)."
   ]
  },
  {
   "cell_type": "code",
   "execution_count": 25,
   "metadata": {},
   "outputs": [
    {
     "data": {
      "text/plain": [
       "[Text(0.5, 0, 'Date'), Text(0, 0.5, 'Total Number of Items Sold')]"
      ]
     },
     "execution_count": 25,
     "metadata": {},
     "output_type": "execute_result"
    },
    {
     "data": {
      "image/png": "[encoded data removed]",
      "text/plain": [
       "<Figure size 864x360 with 1 Axes>"
      ]
     },
     "metadata": {
      "needs_background": "light"
     },
     "output_type": "display_data"
    }
   ],
   "source": [
    "# plot time series chart of number of items by day\n",
    "basket[\"Item\"].resample(\"D\").count().plot(figsize=(12,5), grid=True, title=\"Total Number of Items Sold by Date\").set(xlabel=\"Date\", ylabel=\"Total Number of Items Sold\")"
   ]
  },
  {
   "cell_type": "markdown",
   "metadata": {},
   "source": [
    "**Note:** Total Number of Items Sold by Date fluctuates a lot thoughout the 159 days of data"
   ]
  },
  {
   "cell_type": "code",
   "execution_count": 26,
   "metadata": {},
   "outputs": [
    {
     "data": {
      "text/plain": [
       "Datetime\n",
       "2016-01-31     233\n",
       "2016-02-29     268\n",
       "2016-03-31     380\n",
       "2016-04-30     308\n",
       "2016-05-31     392\n",
       "2016-06-30     307\n",
       "2016-07-31     229\n",
       "2016-08-31     212\n",
       "2016-09-30     218\n",
       "2016-10-31     688\n",
       "2016-11-30    2593\n",
       "2016-12-31    2316\n",
       "2017-01-31    2794\n",
       "2017-02-28    2480\n",
       "2017-03-31    2840\n",
       "2017-04-30     740\n",
       "2017-05-31     532\n",
       "2017-06-30     432\n",
       "2017-07-31     512\n",
       "2017-08-31     488\n",
       "2017-09-30     378\n",
       "2017-10-31     353\n",
       "2017-11-30     483\n",
       "2017-12-31     331\n",
       "Freq: M, Name: Item, dtype: int64"
      ]
     },
     "execution_count": 26,
     "metadata": {},
     "output_type": "execute_result"
    }
   ],
   "source": [
    "basket[\"Item\"].resample(\"M\").count()"
   ]
  },
  {
   "cell_type": "code",
   "execution_count": 27,
   "metadata": {},
   "outputs": [
    {
     "data": {
      "text/plain": [
       "[Text(0.5, 0, 'Date'), Text(0, 0.5, 'Total Number of Items Sold')]"
      ]
     },
     "execution_count": 27,
     "metadata": {},
     "output_type": "execute_result"
    },
    {
     "data": {
      "image/png": "[encoded data removed]",
      "text/plain": [
       "<Figure size 864x360 with 1 Axes>"
      ]
     },
     "metadata": {
      "needs_background": "light"
     },
     "output_type": "display_data"
    }
   ],
   "source": [
    "# plot time series chart of number of items by month\n",
    "basket[\"Item\"].resample(\"M\").count().plot(figsize=(12,5), grid=True, title=\"Total Number by Items Sold by Month\").set(xlabel=\"Date\", ylabel=\"Total Number of Items Sold\")"
   ]
  },
  {
   "cell_type": "markdown",
   "metadata": {},
   "source": [
    "**Note:** Given that the beginning month (October 2016) and ending month (April 2017) are not full month, the total number of items sold by month for the five full month between November 2016 to March 2017 does not fluctuate too much."
   ]
  },
  {
   "cell_type": "code",
   "execution_count": 28,
   "metadata": {},
   "outputs": [
    {
     "data": {
      "text/html": [
       "<div>\n",
       "<style scoped>\n",
       "    .dataframe tbody tr th:only-of-type {\n",
       "        vertical-align: middle;\n",
       "    }\n",
       "\n",
       "    .dataframe tbody tr th {\n",
       "        vertical-align: top;\n",
       "    }\n",
       "\n",
       "    .dataframe thead th {\n",
       "        text-align: right;\n",
       "    }\n",
       "</style>\n",
       "<table border=\"1\" class=\"dataframe\">\n",
       "  <thead>\n",
       "    <tr style=\"text-align: right;\">\n",
       "      <th></th>\n",
       "      <th>Transaction</th>\n",
       "      <th>Item</th>\n",
       "      <th>Hour</th>\n",
       "      <th>Time_Of_Day</th>\n",
       "      <th>Season</th>\n",
       "      <th>Weekday</th>\n",
       "    </tr>\n",
       "    <tr>\n",
       "      <th>Datetime</th>\n",
       "      <th></th>\n",
       "      <th></th>\n",
       "      <th></th>\n",
       "      <th></th>\n",
       "      <th></th>\n",
       "      <th></th>\n",
       "    </tr>\n",
       "  </thead>\n",
       "  <tbody>\n",
       "    <tr>\n",
       "      <th>2016-10-30 09:58:11</th>\n",
       "      <td>1</td>\n",
       "      <td>Bread</td>\n",
       "      <td>9</td>\n",
       "      <td>Breakfast</td>\n",
       "      <td>Fall</td>\n",
       "      <td>7</td>\n",
       "    </tr>\n",
       "    <tr>\n",
       "      <th>2016-10-30 10:05:34</th>\n",
       "      <td>2</td>\n",
       "      <td>Scandinavian</td>\n",
       "      <td>10</td>\n",
       "      <td>Lunch</td>\n",
       "      <td>Fall</td>\n",
       "      <td>7</td>\n",
       "    </tr>\n",
       "    <tr>\n",
       "      <th>2016-10-30 10:05:34</th>\n",
       "      <td>2</td>\n",
       "      <td>Scandinavian</td>\n",
       "      <td>10</td>\n",
       "      <td>Lunch</td>\n",
       "      <td>Fall</td>\n",
       "      <td>7</td>\n",
       "    </tr>\n",
       "    <tr>\n",
       "      <th>2016-10-30 10:07:57</th>\n",
       "      <td>3</td>\n",
       "      <td>Hot chocolate</td>\n",
       "      <td>10</td>\n",
       "      <td>Lunch</td>\n",
       "      <td>Fall</td>\n",
       "      <td>7</td>\n",
       "    </tr>\n",
       "    <tr>\n",
       "      <th>2016-10-30 10:07:57</th>\n",
       "      <td>3</td>\n",
       "      <td>Jam</td>\n",
       "      <td>10</td>\n",
       "      <td>Lunch</td>\n",
       "      <td>Fall</td>\n",
       "      <td>7</td>\n",
       "    </tr>\n",
       "    <tr>\n",
       "      <th>2016-10-30 10:07:57</th>\n",
       "      <td>3</td>\n",
       "      <td>Cookies</td>\n",
       "      <td>10</td>\n",
       "      <td>Lunch</td>\n",
       "      <td>Fall</td>\n",
       "      <td>7</td>\n",
       "    </tr>\n",
       "    <tr>\n",
       "      <th>2016-10-30 10:08:41</th>\n",
       "      <td>4</td>\n",
       "      <td>Muffin</td>\n",
       "      <td>10</td>\n",
       "      <td>Lunch</td>\n",
       "      <td>Fall</td>\n",
       "      <td>7</td>\n",
       "    </tr>\n",
       "    <tr>\n",
       "      <th>2016-10-30 10:13:03</th>\n",
       "      <td>5</td>\n",
       "      <td>Coffee</td>\n",
       "      <td>10</td>\n",
       "      <td>Lunch</td>\n",
       "      <td>Fall</td>\n",
       "      <td>7</td>\n",
       "    </tr>\n",
       "    <tr>\n",
       "      <th>2016-10-30 10:13:03</th>\n",
       "      <td>5</td>\n",
       "      <td>Pastry</td>\n",
       "      <td>10</td>\n",
       "      <td>Lunch</td>\n",
       "      <td>Fall</td>\n",
       "      <td>7</td>\n",
       "    </tr>\n",
       "    <tr>\n",
       "      <th>2016-10-30 10:13:03</th>\n",
       "      <td>5</td>\n",
       "      <td>Bread</td>\n",
       "      <td>10</td>\n",
       "      <td>Lunch</td>\n",
       "      <td>Fall</td>\n",
       "      <td>7</td>\n",
       "    </tr>\n",
       "  </tbody>\n",
       "</table>\n",
       "</div>"
      ],
      "text/plain": [
       "                     Transaction           Item  Hour Time_Of_Day Season  \\\n",
       "Datetime                                                                   \n",
       "2016-10-30 09:58:11            1          Bread     9   Breakfast   Fall   \n",
       "2016-10-30 10:05:34            2   Scandinavian    10       Lunch   Fall   \n",
       "2016-10-30 10:05:34            2   Scandinavian    10       Lunch   Fall   \n",
       "2016-10-30 10:07:57            3  Hot chocolate    10       Lunch   Fall   \n",
       "2016-10-30 10:07:57            3            Jam    10       Lunch   Fall   \n",
       "2016-10-30 10:07:57            3        Cookies    10       Lunch   Fall   \n",
       "2016-10-30 10:08:41            4         Muffin    10       Lunch   Fall   \n",
       "2016-10-30 10:13:03            5         Coffee    10       Lunch   Fall   \n",
       "2016-10-30 10:13:03            5         Pastry    10       Lunch   Fall   \n",
       "2016-10-30 10:13:03            5          Bread    10       Lunch   Fall   \n",
       "\n",
       "                     Weekday  \n",
       "Datetime                      \n",
       "2016-10-30 09:58:11        7  \n",
       "2016-10-30 10:05:34        7  \n",
       "2016-10-30 10:05:34        7  \n",
       "2016-10-30 10:07:57        7  \n",
       "2016-10-30 10:07:57        7  \n",
       "2016-10-30 10:07:57        7  \n",
       "2016-10-30 10:08:41        7  \n",
       "2016-10-30 10:13:03        7  \n",
       "2016-10-30 10:13:03        7  \n",
       "2016-10-30 10:13:03        7  "
      ]
     },
     "execution_count": 28,
     "metadata": {},
     "output_type": "execute_result"
    }
   ],
   "source": [
    "# extract hour of the day and weekday of the week\n",
    "# For Datetimeindex, the day of the week with Monday=0, Sunday=6, thereby +1 to become Monday=1, Sunday=7\n",
    "basket[\"Hour\"] = basket.index.hour\n",
    "basket[\"Weekday\"] = basket.index.weekday + 1\n",
    "\n",
    "basket.head(10)"
   ]
  },
  {
   "cell_type": "code",
   "execution_count": 29,
   "metadata": {},
   "outputs": [
    {
     "data": {
      "text/html": [
       "<div>\n",
       "<style scoped>\n",
       "    .dataframe tbody tr th:only-of-type {\n",
       "        vertical-align: middle;\n",
       "    }\n",
       "\n",
       "    .dataframe tbody tr th {\n",
       "        vertical-align: top;\n",
       "    }\n",
       "\n",
       "    .dataframe thead th {\n",
       "        text-align: right;\n",
       "    }\n",
       "</style>\n",
       "<table border=\"1\" class=\"dataframe\">\n",
       "  <thead>\n",
       "    <tr style=\"text-align: right;\">\n",
       "      <th></th>\n",
       "      <th>Item</th>\n",
       "    </tr>\n",
       "    <tr>\n",
       "      <th>Hour</th>\n",
       "      <th></th>\n",
       "    </tr>\n",
       "  </thead>\n",
       "  <tbody>\n",
       "    <tr>\n",
       "      <th>1</th>\n",
       "      <td>0.006289</td>\n",
       "    </tr>\n",
       "    <tr>\n",
       "      <th>7</th>\n",
       "      <td>0.150943</td>\n",
       "    </tr>\n",
       "    <tr>\n",
       "      <th>8</th>\n",
       "      <td>4.056604</td>\n",
       "    </tr>\n",
       "    <tr>\n",
       "      <th>9</th>\n",
       "      <td>12.364780</td>\n",
       "    </tr>\n",
       "    <tr>\n",
       "      <th>10</th>\n",
       "      <td>16.767296</td>\n",
       "    </tr>\n",
       "    <tr>\n",
       "      <th>11</th>\n",
       "      <td>19.509434</td>\n",
       "    </tr>\n",
       "    <tr>\n",
       "      <th>12</th>\n",
       "      <td>17.949686</td>\n",
       "    </tr>\n",
       "    <tr>\n",
       "      <th>13</th>\n",
       "      <td>16.459119</td>\n",
       "    </tr>\n",
       "    <tr>\n",
       "      <th>14</th>\n",
       "      <td>16.603774</td>\n",
       "    </tr>\n",
       "    <tr>\n",
       "      <th>15</th>\n",
       "      <td>13.301887</td>\n",
       "    </tr>\n",
       "    <tr>\n",
       "      <th>16</th>\n",
       "      <td>8.446541</td>\n",
       "    </tr>\n",
       "    <tr>\n",
       "      <th>17</th>\n",
       "      <td>2.314465</td>\n",
       "    </tr>\n",
       "    <tr>\n",
       "      <th>18</th>\n",
       "      <td>0.515723</td>\n",
       "    </tr>\n",
       "    <tr>\n",
       "      <th>19</th>\n",
       "      <td>0.301887</td>\n",
       "    </tr>\n",
       "    <tr>\n",
       "      <th>20</th>\n",
       "      <td>0.138365</td>\n",
       "    </tr>\n",
       "    <tr>\n",
       "      <th>21</th>\n",
       "      <td>0.018868</td>\n",
       "    </tr>\n",
       "    <tr>\n",
       "      <th>22</th>\n",
       "      <td>0.050314</td>\n",
       "    </tr>\n",
       "    <tr>\n",
       "      <th>23</th>\n",
       "      <td>0.018868</td>\n",
       "    </tr>\n",
       "  </tbody>\n",
       "</table>\n",
       "</div>"
      ],
      "text/plain": [
       "           Item\n",
       "Hour           \n",
       "1      0.006289\n",
       "7      0.150943\n",
       "8      4.056604\n",
       "9     12.364780\n",
       "10    16.767296\n",
       "11    19.509434\n",
       "12    17.949686\n",
       "13    16.459119\n",
       "14    16.603774\n",
       "15    13.301887\n",
       "16     8.446541\n",
       "17     2.314465\n",
       "18     0.515723\n",
       "19     0.301887\n",
       "20     0.138365\n",
       "21     0.018868\n",
       "22     0.050314\n",
       "23     0.018868"
      ]
     },
     "execution_count": 29,
     "metadata": {},
     "output_type": "execute_result"
    }
   ],
   "source": [
    "basket_groupby_hour = basket.groupby(\"Hour\").agg({\"Item\": lambda item: item.count()/total_days})\n",
    "basket_groupby_hour"
   ]
  },
  {
   "cell_type": "code",
   "execution_count": 30,
   "metadata": {},
   "outputs": [
    {
     "data": {
      "text/plain": [
       "[Text(0.5, 0, 'Hour of the Day (24 hour time)'),\n",
       " Text(0, 0.5, 'Average Number of Items Sold')]"
      ]
     },
     "execution_count": 30,
     "metadata": {},
     "output_type": "execute_result"
    },
    {
     "data": {
      "image/png": "[encoded data removed]",
      "text/plain": [
       "<Figure size 864x360 with 1 Axes>"
      ]
     },
     "metadata": {
      "needs_background": "light"
     },
     "output_type": "display_data"
    }
   ],
   "source": [
    "# plot the chart\n",
    "basket_groupby_hour.plot(y=\"Item\", figsize=(12,5), title=\"Average Number by Items Sold by Hour of the Day\").set(xlabel=\"Hour of the Day (24 hour time)\", ylabel=\"Average Number of Items Sold\")"
   ]
  },
  {
   "cell_type": "markdown",
   "metadata": {},
   "source": [
    "**Note:** Sales starts to pick up from 8am, till the busiest hour of the day at 11am, then slowly drops till the late afternoon. It can be observed that most of the sales transactions took place during the lunch hours of the day"
   ]
  },
  {
   "cell_type": "code",
   "execution_count": 31,
   "metadata": {},
   "outputs": [
    {
     "data": {
      "text/html": [
       "<div>\n",
       "<style scoped>\n",
       "    .dataframe tbody tr th:only-of-type {\n",
       "        vertical-align: middle;\n",
       "    }\n",
       "\n",
       "    .dataframe tbody tr th {\n",
       "        vertical-align: top;\n",
       "    }\n",
       "\n",
       "    .dataframe thead th {\n",
       "        text-align: right;\n",
       "    }\n",
       "</style>\n",
       "<table border=\"1\" class=\"dataframe\">\n",
       "  <thead>\n",
       "    <tr style=\"text-align: right;\">\n",
       "      <th></th>\n",
       "      <th>Item</th>\n",
       "    </tr>\n",
       "    <tr>\n",
       "      <th>Weekday</th>\n",
       "      <th></th>\n",
       "    </tr>\n",
       "  </thead>\n",
       "  <tbody>\n",
       "    <tr>\n",
       "      <th>1</th>\n",
       "      <td>3035</td>\n",
       "    </tr>\n",
       "    <tr>\n",
       "      <th>2</th>\n",
       "      <td>2645</td>\n",
       "    </tr>\n",
       "    <tr>\n",
       "      <th>3</th>\n",
       "      <td>2288</td>\n",
       "    </tr>\n",
       "    <tr>\n",
       "      <th>4</th>\n",
       "      <td>2601</td>\n",
       "    </tr>\n",
       "    <tr>\n",
       "      <th>5</th>\n",
       "      <td>3266</td>\n",
       "    </tr>\n",
       "    <tr>\n",
       "      <th>6</th>\n",
       "      <td>3554</td>\n",
       "    </tr>\n",
       "    <tr>\n",
       "      <th>7</th>\n",
       "      <td>3118</td>\n",
       "    </tr>\n",
       "  </tbody>\n",
       "</table>\n",
       "</div>"
      ],
      "text/plain": [
       "         Item\n",
       "Weekday      \n",
       "1        3035\n",
       "2        2645\n",
       "3        2288\n",
       "4        2601\n",
       "5        3266\n",
       "6        3554\n",
       "7        3118"
      ]
     },
     "execution_count": 31,
     "metadata": {},
     "output_type": "execute_result"
    }
   ],
   "source": [
    "# sales groupby weekday\n",
    "basket_groupby_weekday = basket.groupby(\"Weekday\").agg({\"Item\": lambda item: item.count()})\n",
    "basket_groupby_weekday"
   ]
  },
  {
   "cell_type": "code",
   "execution_count": 32,
   "metadata": {},
   "outputs": [
    {
     "name": "stdout",
     "output_type": "stream",
     "text": [
      "monday = 25, tuesday = 25, wednesday = 20, thursday = 21, friday = 24, saturday = 22, sunday = 22, total = 159\n"
     ]
    }
   ],
   "source": [
    "# but we need to find out how many each weekday in that period of transaction\n",
    "# in order to calculate the average items per weekday\n",
    "\n",
    "import datetime \n",
    "daterange = pd.date_range(datetime.date(2016, 10, 30), datetime.date(2017, 4, 9))\n",
    "\n",
    "monday = 0\n",
    "tuesday = 0\n",
    "wednesday = 0\n",
    "thursday = 0\n",
    "friday = 0\n",
    "saturday = 0\n",
    "sunday = 0\n",
    "\n",
    "for day in np.unique(basket.index.date):\n",
    "    if day.isoweekday() == 1:\n",
    "        monday += 1\n",
    "    elif day.isoweekday() == 2:\n",
    "        tuesday += 1\n",
    "    elif day.isoweekday() == 3:\n",
    "        wednesday += 1\n",
    "    elif day.isoweekday() == 4:\n",
    "        thursday += 1        \n",
    "    elif day.isoweekday() == 5:\n",
    "        friday += 1        \n",
    "    elif day.isoweekday() == 6:\n",
    "        saturday += 1        \n",
    "    elif day.isoweekday() == 7:\n",
    "        sunday += 1        \n",
    "        \n",
    "all_weekdays = monday + tuesday + wednesday + thursday + friday + saturday + sunday\n",
    "\n",
    "print(\"monday = {0}, tuesday = {1}, wednesday = {2}, thursday = {3}, friday = {4}, saturday = {5}, sunday = {6}, total = {7}\".format(monday, tuesday, wednesday, thursday, friday, saturday, sunday, all_weekdays))"
   ]
  },
  {
   "cell_type": "code",
   "execution_count": 33,
   "metadata": {},
   "outputs": [
    {
     "data": {
      "text/html": [
       "<div>\n",
       "<style scoped>\n",
       "    .dataframe tbody tr th:only-of-type {\n",
       "        vertical-align: middle;\n",
       "    }\n",
       "\n",
       "    .dataframe tbody tr th {\n",
       "        vertical-align: top;\n",
       "    }\n",
       "\n",
       "    .dataframe thead th {\n",
       "        text-align: right;\n",
       "    }\n",
       "</style>\n",
       "<table border=\"1\" class=\"dataframe\">\n",
       "  <thead>\n",
       "    <tr style=\"text-align: right;\">\n",
       "      <th></th>\n",
       "      <th>Item</th>\n",
       "      <th>Average</th>\n",
       "    </tr>\n",
       "    <tr>\n",
       "      <th>Weekday</th>\n",
       "      <th></th>\n",
       "      <th></th>\n",
       "    </tr>\n",
       "  </thead>\n",
       "  <tbody>\n",
       "    <tr>\n",
       "      <th>1</th>\n",
       "      <td>3035</td>\n",
       "      <td>144.523810</td>\n",
       "    </tr>\n",
       "    <tr>\n",
       "      <th>2</th>\n",
       "      <td>2645</td>\n",
       "      <td>115.000000</td>\n",
       "    </tr>\n",
       "    <tr>\n",
       "      <th>3</th>\n",
       "      <td>2288</td>\n",
       "      <td>99.478261</td>\n",
       "    </tr>\n",
       "    <tr>\n",
       "      <th>4</th>\n",
       "      <td>2601</td>\n",
       "      <td>113.086957</td>\n",
       "    </tr>\n",
       "    <tr>\n",
       "      <th>5</th>\n",
       "      <td>3266</td>\n",
       "      <td>142.000000</td>\n",
       "    </tr>\n",
       "    <tr>\n",
       "      <th>6</th>\n",
       "      <td>3554</td>\n",
       "      <td>154.521739</td>\n",
       "    </tr>\n",
       "    <tr>\n",
       "      <th>7</th>\n",
       "      <td>3118</td>\n",
       "      <td>135.565217</td>\n",
       "    </tr>\n",
       "  </tbody>\n",
       "</table>\n",
       "</div>"
      ],
      "text/plain": [
       "         Item     Average\n",
       "Weekday                  \n",
       "1        3035  144.523810\n",
       "2        2645  115.000000\n",
       "3        2288   99.478261\n",
       "4        2601  113.086957\n",
       "5        3266  142.000000\n",
       "6        3554  154.521739\n",
       "7        3118  135.565217"
      ]
     },
     "execution_count": 33,
     "metadata": {},
     "output_type": "execute_result"
    }
   ],
   "source": [
    "# apply the conditions to calculate the average items for each weekday\n",
    "conditions = [\n",
    "    (basket_groupby_weekday.index == 1),\n",
    "    (basket_groupby_weekday.index == 2),\n",
    "    (basket_groupby_weekday.index == 3),\n",
    "    (basket_groupby_weekday.index == 4),\n",
    "    (basket_groupby_weekday.index == 5),\n",
    "    (basket_groupby_weekday.index == 6),\n",
    "    (basket_groupby_weekday.index == 7)]\n",
    "\n",
    "choices = [basket_groupby_weekday.Item/21, basket_groupby_weekday.Item/23, basket_groupby_weekday.Item/23, basket_groupby_weekday.Item/23, basket_groupby_weekday.Item/23, basket_groupby_weekday.Item/23, basket_groupby_weekday.Item/23]\n",
    "\n",
    "basket_groupby_weekday[\"Average\"] = np.select(conditions, choices, default=0)\n",
    "basket_groupby_weekday"
   ]
  },
  {
   "cell_type": "code",
   "execution_count": 35,
   "metadata": {},
   "outputs": [
    {
     "data": {
      "text/plain": [
       "[Text(0.5, 0, 'Day of the Week (1=Monday, 7=Sunday)'),\n",
       " Text(0, 0.5, 'Average Number of Items Sold')]"
      ]
     },
     "execution_count": 35,
     "metadata": {},
     "output_type": "execute_result"
    },
    {
     "data": {
      "image/png": "[encoded data removed]",
      "text/plain": [
       "<Figure size 864x360 with 1 Axes>"
      ]
     },
     "metadata": {
      "needs_background": "light"
     },
     "output_type": "display_data"
    }
   ],
   "source": [
    "basket_groupby_weekday.plot(y=\"Average\", figsize=(12,5), title=\"Average Number by Items Sold by Day of the Week\").set(xlabel=\"Day of the Week (1=Monday, 7=Sunday)\", ylabel=\"Average Number of Items Sold\")"
   ]
  },
  {
   "cell_type": "markdown",
   "metadata": {},
   "source": [
    "**Note:** Saturday is the busiest day of the week with the highest sales (~200 items) while Wednesday is the quietest day with the lowest sales (~101 items). This is an interesting insight, the owner of the Bakery should launch some promotion activities to boost up sales in the middle of the week when sales are slowest."
   ]
  },
  {
   "cell_type": "markdown",
   "metadata": {},
   "source": [
    "***\n",
    "## One-Hot Encoding ##"
   ]
  },
  {
   "cell_type": "markdown",
   "metadata": {},
   "source": [
    "The **Apriori** function in the MLxtend library expects data in a one-hot encoded pandas DataFrame. This means that all the data for a transaction must be included in one row and the items must be one-hot encoded. Example below:\n",
    "\n",
    "|   | Coffee | Cake | Bread | Cookie | Muffin | Tea | Milk | Juice | Sandwich |\n",
    "|---|--------|------|-------|--------|--------|-----|------|-------|----------|\n",
    "| 0 | 0      | 1    | 1     | 0      | 0      |0    |0     |1      |0         |\n",
    "| 1 | 1      | 0    | 0     | 0      | 1      |0    |0     |0      |0         |\n",
    "| 2 | 0      | 0    | 0     | 1      | 0      |0    |0     |0      |1         |\n",
    "| 3 | 1      | 0    | 0     | 0      | 0      |1    |0     |0      |1         |\n",
    "| 4 | 1      | 1    | 0     | 0      | 0      |0    |0     |0      |0         |"
   ]
  },
  {
   "cell_type": "markdown",
   "metadata": {},
   "source": [
    "Therefore, we'll need to group the basket dataframe by `Transaction` and `Item` and display the count of items. Then we need to consolidate the items into one transaction per row with each item one-hot encoded. "
   ]
  },
  {
   "cell_type": "code",
   "execution_count": 36,
   "metadata": {},
   "outputs": [
    {
     "data": {
      "text/html": [
       "<div>\n",
       "<style scoped>\n",
       "    .dataframe tbody tr th:only-of-type {\n",
       "        vertical-align: middle;\n",
       "    }\n",
       "\n",
       "    .dataframe tbody tr th {\n",
       "        vertical-align: top;\n",
       "    }\n",
       "\n",
       "    .dataframe thead th {\n",
       "        text-align: right;\n",
       "    }\n",
       "</style>\n",
       "<table border=\"1\" class=\"dataframe\">\n",
       "  <thead>\n",
       "    <tr style=\"text-align: right;\">\n",
       "      <th></th>\n",
       "      <th>Transaction</th>\n",
       "      <th>Item</th>\n",
       "      <th>Count</th>\n",
       "    </tr>\n",
       "  </thead>\n",
       "  <tbody>\n",
       "    <tr>\n",
       "      <th>0</th>\n",
       "      <td>1</td>\n",
       "      <td>Bread</td>\n",
       "      <td>1</td>\n",
       "    </tr>\n",
       "    <tr>\n",
       "      <th>1</th>\n",
       "      <td>2</td>\n",
       "      <td>Scandinavian</td>\n",
       "      <td>2</td>\n",
       "    </tr>\n",
       "    <tr>\n",
       "      <th>2</th>\n",
       "      <td>3</td>\n",
       "      <td>Cookies</td>\n",
       "      <td>1</td>\n",
       "    </tr>\n",
       "    <tr>\n",
       "      <th>3</th>\n",
       "      <td>3</td>\n",
       "      <td>Hot chocolate</td>\n",
       "      <td>1</td>\n",
       "    </tr>\n",
       "    <tr>\n",
       "      <th>4</th>\n",
       "      <td>3</td>\n",
       "      <td>Jam</td>\n",
       "      <td>1</td>\n",
       "    </tr>\n",
       "  </tbody>\n",
       "</table>\n",
       "</div>"
      ],
      "text/plain": [
       "   Transaction           Item  Count\n",
       "0            1          Bread      1\n",
       "1            2   Scandinavian      2\n",
       "2            3        Cookies      1\n",
       "3            3  Hot chocolate      1\n",
       "4            3            Jam      1"
      ]
     },
     "execution_count": 36,
     "metadata": {},
     "output_type": "execute_result"
    }
   ],
   "source": [
    "df = basket.groupby([\"Transaction\",\"Item\"]).size().reset_index(name=\"Count\")\n",
    "\n",
    "df.head()"
   ]
  },
  {
   "cell_type": "code",
   "execution_count": 37,
   "metadata": {},
   "outputs": [
    {
     "data": {
      "text/html": [
       "<div>\n",
       "<style scoped>\n",
       "    .dataframe tbody tr th:only-of-type {\n",
       "        vertical-align: middle;\n",
       "    }\n",
       "\n",
       "    .dataframe tbody tr th {\n",
       "        vertical-align: top;\n",
       "    }\n",
       "\n",
       "    .dataframe thead th {\n",
       "        text-align: right;\n",
       "    }\n",
       "</style>\n",
       "<table border=\"1\" class=\"dataframe\">\n",
       "  <thead>\n",
       "    <tr style=\"text-align: right;\">\n",
       "      <th>Item</th>\n",
       "      <th>Adjustment</th>\n",
       "      <th>Afternoon with the baker</th>\n",
       "      <th>Alfajores</th>\n",
       "      <th>Argentina Night</th>\n",
       "      <th>Art Tray</th>\n",
       "      <th>Bacon</th>\n",
       "      <th>Baguette</th>\n",
       "      <th>Bakewell</th>\n",
       "      <th>Bare Popcorn</th>\n",
       "      <th>Basket</th>\n",
       "      <th>...</th>\n",
       "      <th>The BART</th>\n",
       "      <th>The Nomad</th>\n",
       "      <th>Tiffin</th>\n",
       "      <th>Toast</th>\n",
       "      <th>Truffles</th>\n",
       "      <th>Tshirt</th>\n",
       "      <th>Valentine's card</th>\n",
       "      <th>Vegan Feast</th>\n",
       "      <th>Vegan mincepie</th>\n",
       "      <th>Victorian Sponge</th>\n",
       "    </tr>\n",
       "    <tr>\n",
       "      <th>Transaction</th>\n",
       "      <th></th>\n",
       "      <th></th>\n",
       "      <th></th>\n",
       "      <th></th>\n",
       "      <th></th>\n",
       "      <th></th>\n",
       "      <th></th>\n",
       "      <th></th>\n",
       "      <th></th>\n",
       "      <th></th>\n",
       "      <th></th>\n",
       "      <th></th>\n",
       "      <th></th>\n",
       "      <th></th>\n",
       "      <th></th>\n",
       "      <th></th>\n",
       "      <th></th>\n",
       "      <th></th>\n",
       "      <th></th>\n",
       "      <th></th>\n",
       "      <th></th>\n",
       "    </tr>\n",
       "  </thead>\n",
       "  <tbody>\n",
       "    <tr>\n",
       "      <th>1</th>\n",
       "      <td>0.0</td>\n",
       "      <td>0.0</td>\n",
       "      <td>0.0</td>\n",
       "      <td>0.0</td>\n",
       "      <td>0.0</td>\n",
       "      <td>0.0</td>\n",
       "      <td>0.0</td>\n",
       "      <td>0.0</td>\n",
       "      <td>0.0</td>\n",
       "      <td>0.0</td>\n",
       "      <td>...</td>\n",
       "      <td>0.0</td>\n",
       "      <td>0.0</td>\n",
       "      <td>0.0</td>\n",
       "      <td>0.0</td>\n",
       "      <td>0.0</td>\n",
       "      <td>0.0</td>\n",
       "      <td>0.0</td>\n",
       "      <td>0.0</td>\n",
       "      <td>0.0</td>\n",
       "      <td>0.0</td>\n",
       "    </tr>\n",
       "    <tr>\n",
       "      <th>2</th>\n",
       "      <td>0.0</td>\n",
       "      <td>0.0</td>\n",
       "      <td>0.0</td>\n",
       "      <td>0.0</td>\n",
       "      <td>0.0</td>\n",
       "      <td>0.0</td>\n",
       "      <td>0.0</td>\n",
       "      <td>0.0</td>\n",
       "      <td>0.0</td>\n",
       "      <td>0.0</td>\n",
       "      <td>...</td>\n",
       "      <td>0.0</td>\n",
       "      <td>0.0</td>\n",
       "      <td>0.0</td>\n",
       "      <td>0.0</td>\n",
       "      <td>0.0</td>\n",
       "      <td>0.0</td>\n",
       "      <td>0.0</td>\n",
       "      <td>0.0</td>\n",
       "      <td>0.0</td>\n",
       "      <td>0.0</td>\n",
       "    </tr>\n",
       "    <tr>\n",
       "      <th>3</th>\n",
       "      <td>0.0</td>\n",
       "      <td>0.0</td>\n",
       "      <td>0.0</td>\n",
       "      <td>0.0</td>\n",
       "      <td>0.0</td>\n",
       "      <td>0.0</td>\n",
       "      <td>0.0</td>\n",
       "      <td>0.0</td>\n",
       "      <td>0.0</td>\n",
       "      <td>0.0</td>\n",
       "      <td>...</td>\n",
       "      <td>0.0</td>\n",
       "      <td>0.0</td>\n",
       "      <td>0.0</td>\n",
       "      <td>0.0</td>\n",
       "      <td>0.0</td>\n",
       "      <td>0.0</td>\n",
       "      <td>0.0</td>\n",
       "      <td>0.0</td>\n",
       "      <td>0.0</td>\n",
       "      <td>0.0</td>\n",
       "    </tr>\n",
       "    <tr>\n",
       "      <th>4</th>\n",
       "      <td>0.0</td>\n",
       "      <td>0.0</td>\n",
       "      <td>0.0</td>\n",
       "      <td>0.0</td>\n",
       "      <td>0.0</td>\n",
       "      <td>0.0</td>\n",
       "      <td>0.0</td>\n",
       "      <td>0.0</td>\n",
       "      <td>0.0</td>\n",
       "      <td>0.0</td>\n",
       "      <td>...</td>\n",
       "      <td>0.0</td>\n",
       "      <td>0.0</td>\n",
       "      <td>0.0</td>\n",
       "      <td>0.0</td>\n",
       "      <td>0.0</td>\n",
       "      <td>0.0</td>\n",
       "      <td>0.0</td>\n",
       "      <td>0.0</td>\n",
       "      <td>0.0</td>\n",
       "      <td>0.0</td>\n",
       "    </tr>\n",
       "    <tr>\n",
       "      <th>5</th>\n",
       "      <td>0.0</td>\n",
       "      <td>0.0</td>\n",
       "      <td>0.0</td>\n",
       "      <td>0.0</td>\n",
       "      <td>0.0</td>\n",
       "      <td>0.0</td>\n",
       "      <td>0.0</td>\n",
       "      <td>0.0</td>\n",
       "      <td>0.0</td>\n",
       "      <td>0.0</td>\n",
       "      <td>...</td>\n",
       "      <td>0.0</td>\n",
       "      <td>0.0</td>\n",
       "      <td>0.0</td>\n",
       "      <td>0.0</td>\n",
       "      <td>0.0</td>\n",
       "      <td>0.0</td>\n",
       "      <td>0.0</td>\n",
       "      <td>0.0</td>\n",
       "      <td>0.0</td>\n",
       "      <td>0.0</td>\n",
       "    </tr>\n",
       "  </tbody>\n",
       "</table>\n",
       "<p>5 rows × 94 columns</p>\n",
       "</div>"
      ],
      "text/plain": [
       "Item         Adjustment  Afternoon with the baker  Alfajores  Argentina Night  \\\n",
       "Transaction                                                                     \n",
       "1                   0.0                       0.0        0.0              0.0   \n",
       "2                   0.0                       0.0        0.0              0.0   \n",
       "3                   0.0                       0.0        0.0              0.0   \n",
       "4                   0.0                       0.0        0.0              0.0   \n",
       "5                   0.0                       0.0        0.0              0.0   \n",
       "\n",
       "Item         Art Tray  Bacon  Baguette  Bakewell  Bare Popcorn  Basket  ...  \\\n",
       "Transaction                                                             ...   \n",
       "1                 0.0    0.0       0.0       0.0           0.0     0.0  ...   \n",
       "2                 0.0    0.0       0.0       0.0           0.0     0.0  ...   \n",
       "3                 0.0    0.0       0.0       0.0           0.0     0.0  ...   \n",
       "4                 0.0    0.0       0.0       0.0           0.0     0.0  ...   \n",
       "5                 0.0    0.0       0.0       0.0           0.0     0.0  ...   \n",
       "\n",
       "Item         The BART  The Nomad  Tiffin  Toast  Truffles  Tshirt  \\\n",
       "Transaction                                                         \n",
       "1                 0.0        0.0     0.0    0.0       0.0     0.0   \n",
       "2                 0.0        0.0     0.0    0.0       0.0     0.0   \n",
       "3                 0.0        0.0     0.0    0.0       0.0     0.0   \n",
       "4                 0.0        0.0     0.0    0.0       0.0     0.0   \n",
       "5                 0.0        0.0     0.0    0.0       0.0     0.0   \n",
       "\n",
       "Item         Valentine's card  Vegan Feast  Vegan mincepie  Victorian Sponge  \n",
       "Transaction                                                                   \n",
       "1                         0.0          0.0             0.0               0.0  \n",
       "2                         0.0          0.0             0.0               0.0  \n",
       "3                         0.0          0.0             0.0               0.0  \n",
       "4                         0.0          0.0             0.0               0.0  \n",
       "5                         0.0          0.0             0.0               0.0  \n",
       "\n",
       "[5 rows x 94 columns]"
      ]
     },
     "execution_count": 37,
     "metadata": {},
     "output_type": "execute_result"
    }
   ],
   "source": [
    "basket = (df.groupby(['Transaction', 'Item'])['Count']\n",
    "          .sum().unstack().reset_index().fillna(0)\n",
    "          .set_index('Transaction'))\n",
    "\n",
    "basket.head()"
   ]
  },
  {
   "cell_type": "code",
   "execution_count": 38,
   "metadata": {},
   "outputs": [
    {
     "data": {
      "text/html": [
       "<div>\n",
       "<style scoped>\n",
       "    .dataframe tbody tr th:only-of-type {\n",
       "        vertical-align: middle;\n",
       "    }\n",
       "\n",
       "    .dataframe tbody tr th {\n",
       "        vertical-align: top;\n",
       "    }\n",
       "\n",
       "    .dataframe thead th {\n",
       "        text-align: right;\n",
       "    }\n",
       "</style>\n",
       "<table border=\"1\" class=\"dataframe\">\n",
       "  <thead>\n",
       "    <tr style=\"text-align: right;\">\n",
       "      <th>Item</th>\n",
       "      <th>Brownie</th>\n",
       "      <th>Cake</th>\n",
       "      <th>Caramel bites</th>\n",
       "      <th>Cherry me Dried fruit</th>\n",
       "      <th>Chicken Stew</th>\n",
       "      <th>Chicken sand</th>\n",
       "      <th>Chimichurri Oil</th>\n",
       "      <th>Chocolates</th>\n",
       "      <th>Christmas common</th>\n",
       "      <th>Coffee</th>\n",
       "      <th>Coffee granules</th>\n",
       "      <th>Coke</th>\n",
       "      <th>Cookies</th>\n",
       "      <th>Crepes</th>\n",
       "    </tr>\n",
       "    <tr>\n",
       "      <th>Transaction</th>\n",
       "      <th></th>\n",
       "      <th></th>\n",
       "      <th></th>\n",
       "      <th></th>\n",
       "      <th></th>\n",
       "      <th></th>\n",
       "      <th></th>\n",
       "      <th></th>\n",
       "      <th></th>\n",
       "      <th></th>\n",
       "      <th></th>\n",
       "      <th></th>\n",
       "      <th></th>\n",
       "      <th></th>\n",
       "    </tr>\n",
       "  </thead>\n",
       "  <tbody>\n",
       "    <tr>\n",
       "      <th>6560</th>\n",
       "      <td>0.0</td>\n",
       "      <td>0.0</td>\n",
       "      <td>0.0</td>\n",
       "      <td>0.0</td>\n",
       "      <td>0.0</td>\n",
       "      <td>0.0</td>\n",
       "      <td>0.0</td>\n",
       "      <td>0.0</td>\n",
       "      <td>0.0</td>\n",
       "      <td>4.0</td>\n",
       "      <td>0.0</td>\n",
       "      <td>0.0</td>\n",
       "      <td>1.0</td>\n",
       "      <td>0.0</td>\n",
       "    </tr>\n",
       "    <tr>\n",
       "      <th>6850</th>\n",
       "      <td>0.0</td>\n",
       "      <td>0.0</td>\n",
       "      <td>0.0</td>\n",
       "      <td>0.0</td>\n",
       "      <td>0.0</td>\n",
       "      <td>0.0</td>\n",
       "      <td>0.0</td>\n",
       "      <td>0.0</td>\n",
       "      <td>0.0</td>\n",
       "      <td>4.0</td>\n",
       "      <td>0.0</td>\n",
       "      <td>0.0</td>\n",
       "      <td>0.0</td>\n",
       "      <td>0.0</td>\n",
       "    </tr>\n",
       "    <tr>\n",
       "      <th>6887</th>\n",
       "      <td>0.0</td>\n",
       "      <td>1.0</td>\n",
       "      <td>0.0</td>\n",
       "      <td>0.0</td>\n",
       "      <td>0.0</td>\n",
       "      <td>0.0</td>\n",
       "      <td>0.0</td>\n",
       "      <td>0.0</td>\n",
       "      <td>0.0</td>\n",
       "      <td>4.0</td>\n",
       "      <td>0.0</td>\n",
       "      <td>0.0</td>\n",
       "      <td>0.0</td>\n",
       "      <td>0.0</td>\n",
       "    </tr>\n",
       "  </tbody>\n",
       "</table>\n",
       "</div>"
      ],
      "text/plain": [
       "Item         Brownie  Cake  Caramel bites  Cherry me Dried fruit  \\\n",
       "Transaction                                                        \n",
       "6560             0.0   0.0            0.0                    0.0   \n",
       "6850             0.0   0.0            0.0                    0.0   \n",
       "6887             0.0   1.0            0.0                    0.0   \n",
       "\n",
       "Item         Chicken Stew  Chicken sand  Chimichurri Oil  Chocolates  \\\n",
       "Transaction                                                            \n",
       "6560                  0.0           0.0              0.0         0.0   \n",
       "6850                  0.0           0.0              0.0         0.0   \n",
       "6887                  0.0           0.0              0.0         0.0   \n",
       "\n",
       "Item         Christmas common  Coffee  Coffee granules   Coke  Cookies  Crepes  \n",
       "Transaction                                                                     \n",
       "6560                      0.0     4.0               0.0   0.0      1.0     0.0  \n",
       "6850                      0.0     4.0               0.0   0.0      0.0     0.0  \n",
       "6887                      0.0     4.0               0.0   0.0      0.0     0.0  "
      ]
     },
     "execution_count": 38,
     "metadata": {},
     "output_type": "execute_result"
    }
   ],
   "source": [
    "basket[basket.Coffee == 4].iloc[:,14:28]"
   ]
  },
  {
   "cell_type": "markdown",
   "metadata": {},
   "source": [
    "**Note:** At this stage, the one-hot encoded table shows the count of items purchased as result. If you observe the portion of the table above, in Transaction 6887, the cell value for Coffee is \"4.0\" because there were 4 coffee purchased in this transaction. However, this is not important for us and we need to convert this value into 1."
   ]
  },
  {
   "cell_type": "code",
   "execution_count": 39,
   "metadata": {},
   "outputs": [],
   "source": [
    "# the encoding function\n",
    "def encode_units(x):\n",
    "    if x <= 0:\n",
    "        return 0\n",
    "    if x >= 1:\n",
    "        return 1\n"
   ]
  },
  {
   "cell_type": "code",
   "execution_count": 40,
   "metadata": {},
   "outputs": [
    {
     "data": {
      "text/html": [
       "<div>\n",
       "<style scoped>\n",
       "    .dataframe tbody tr th:only-of-type {\n",
       "        vertical-align: middle;\n",
       "    }\n",
       "\n",
       "    .dataframe tbody tr th {\n",
       "        vertical-align: top;\n",
       "    }\n",
       "\n",
       "    .dataframe thead th {\n",
       "        text-align: right;\n",
       "    }\n",
       "</style>\n",
       "<table border=\"1\" class=\"dataframe\">\n",
       "  <thead>\n",
       "    <tr style=\"text-align: right;\">\n",
       "      <th>Item</th>\n",
       "      <th>Adjustment</th>\n",
       "      <th>Afternoon with the baker</th>\n",
       "      <th>Alfajores</th>\n",
       "      <th>Argentina Night</th>\n",
       "      <th>Art Tray</th>\n",
       "      <th>Bacon</th>\n",
       "      <th>Baguette</th>\n",
       "      <th>Bakewell</th>\n",
       "      <th>Bare Popcorn</th>\n",
       "      <th>Basket</th>\n",
       "      <th>...</th>\n",
       "      <th>The BART</th>\n",
       "      <th>The Nomad</th>\n",
       "      <th>Tiffin</th>\n",
       "      <th>Toast</th>\n",
       "      <th>Truffles</th>\n",
       "      <th>Tshirt</th>\n",
       "      <th>Valentine's card</th>\n",
       "      <th>Vegan Feast</th>\n",
       "      <th>Vegan mincepie</th>\n",
       "      <th>Victorian Sponge</th>\n",
       "    </tr>\n",
       "    <tr>\n",
       "      <th>Transaction</th>\n",
       "      <th></th>\n",
       "      <th></th>\n",
       "      <th></th>\n",
       "      <th></th>\n",
       "      <th></th>\n",
       "      <th></th>\n",
       "      <th></th>\n",
       "      <th></th>\n",
       "      <th></th>\n",
       "      <th></th>\n",
       "      <th></th>\n",
       "      <th></th>\n",
       "      <th></th>\n",
       "      <th></th>\n",
       "      <th></th>\n",
       "      <th></th>\n",
       "      <th></th>\n",
       "      <th></th>\n",
       "      <th></th>\n",
       "      <th></th>\n",
       "      <th></th>\n",
       "    </tr>\n",
       "  </thead>\n",
       "  <tbody>\n",
       "    <tr>\n",
       "      <th>1</th>\n",
       "      <td>0</td>\n",
       "      <td>0</td>\n",
       "      <td>0</td>\n",
       "      <td>0</td>\n",
       "      <td>0</td>\n",
       "      <td>0</td>\n",
       "      <td>0</td>\n",
       "      <td>0</td>\n",
       "      <td>0</td>\n",
       "      <td>0</td>\n",
       "      <td>...</td>\n",
       "      <td>0</td>\n",
       "      <td>0</td>\n",
       "      <td>0</td>\n",
       "      <td>0</td>\n",
       "      <td>0</td>\n",
       "      <td>0</td>\n",
       "      <td>0</td>\n",
       "      <td>0</td>\n",
       "      <td>0</td>\n",
       "      <td>0</td>\n",
       "    </tr>\n",
       "    <tr>\n",
       "      <th>2</th>\n",
       "      <td>0</td>\n",
       "      <td>0</td>\n",
       "      <td>0</td>\n",
       "      <td>0</td>\n",
       "      <td>0</td>\n",
       "      <td>0</td>\n",
       "      <td>0</td>\n",
       "      <td>0</td>\n",
       "      <td>0</td>\n",
       "      <td>0</td>\n",
       "      <td>...</td>\n",
       "      <td>0</td>\n",
       "      <td>0</td>\n",
       "      <td>0</td>\n",
       "      <td>0</td>\n",
       "      <td>0</td>\n",
       "      <td>0</td>\n",
       "      <td>0</td>\n",
       "      <td>0</td>\n",
       "      <td>0</td>\n",
       "      <td>0</td>\n",
       "    </tr>\n",
       "    <tr>\n",
       "      <th>3</th>\n",
       "      <td>0</td>\n",
       "      <td>0</td>\n",
       "      <td>0</td>\n",
       "      <td>0</td>\n",
       "      <td>0</td>\n",
       "      <td>0</td>\n",
       "      <td>0</td>\n",
       "      <td>0</td>\n",
       "      <td>0</td>\n",
       "      <td>0</td>\n",
       "      <td>...</td>\n",
       "      <td>0</td>\n",
       "      <td>0</td>\n",
       "      <td>0</td>\n",
       "      <td>0</td>\n",
       "      <td>0</td>\n",
       "      <td>0</td>\n",
       "      <td>0</td>\n",
       "      <td>0</td>\n",
       "      <td>0</td>\n",
       "      <td>0</td>\n",
       "    </tr>\n",
       "    <tr>\n",
       "      <th>4</th>\n",
       "      <td>0</td>\n",
       "      <td>0</td>\n",
       "      <td>0</td>\n",
       "      <td>0</td>\n",
       "      <td>0</td>\n",
       "      <td>0</td>\n",
       "      <td>0</td>\n",
       "      <td>0</td>\n",
       "      <td>0</td>\n",
       "      <td>0</td>\n",
       "      <td>...</td>\n",
       "      <td>0</td>\n",
       "      <td>0</td>\n",
       "      <td>0</td>\n",
       "      <td>0</td>\n",
       "      <td>0</td>\n",
       "      <td>0</td>\n",
       "      <td>0</td>\n",
       "      <td>0</td>\n",
       "      <td>0</td>\n",
       "      <td>0</td>\n",
       "    </tr>\n",
       "    <tr>\n",
       "      <th>5</th>\n",
       "      <td>0</td>\n",
       "      <td>0</td>\n",
       "      <td>0</td>\n",
       "      <td>0</td>\n",
       "      <td>0</td>\n",
       "      <td>0</td>\n",
       "      <td>0</td>\n",
       "      <td>0</td>\n",
       "      <td>0</td>\n",
       "      <td>0</td>\n",
       "      <td>...</td>\n",
       "      <td>0</td>\n",
       "      <td>0</td>\n",
       "      <td>0</td>\n",
       "      <td>0</td>\n",
       "      <td>0</td>\n",
       "      <td>0</td>\n",
       "      <td>0</td>\n",
       "      <td>0</td>\n",
       "      <td>0</td>\n",
       "      <td>0</td>\n",
       "    </tr>\n",
       "  </tbody>\n",
       "</table>\n",
       "<p>5 rows × 94 columns</p>\n",
       "</div>"
      ],
      "text/plain": [
       "Item         Adjustment  Afternoon with the baker  Alfajores  Argentina Night  \\\n",
       "Transaction                                                                     \n",
       "1                     0                         0          0                0   \n",
       "2                     0                         0          0                0   \n",
       "3                     0                         0          0                0   \n",
       "4                     0                         0          0                0   \n",
       "5                     0                         0          0                0   \n",
       "\n",
       "Item         Art Tray  Bacon  Baguette  Bakewell  Bare Popcorn  Basket  ...  \\\n",
       "Transaction                                                             ...   \n",
       "1                   0      0         0         0             0       0  ...   \n",
       "2                   0      0         0         0             0       0  ...   \n",
       "3                   0      0         0         0             0       0  ...   \n",
       "4                   0      0         0         0             0       0  ...   \n",
       "5                   0      0         0         0             0       0  ...   \n",
       "\n",
       "Item         The BART  The Nomad  Tiffin  Toast  Truffles  Tshirt  \\\n",
       "Transaction                                                         \n",
       "1                   0          0       0      0         0       0   \n",
       "2                   0          0       0      0         0       0   \n",
       "3                   0          0       0      0         0       0   \n",
       "4                   0          0       0      0         0       0   \n",
       "5                   0          0       0      0         0       0   \n",
       "\n",
       "Item         Valentine's card  Vegan Feast  Vegan mincepie  Victorian Sponge  \n",
       "Transaction                                                                   \n",
       "1                           0            0               0                 0  \n",
       "2                           0            0               0                 0  \n",
       "3                           0            0               0                 0  \n",
       "4                           0            0               0                 0  \n",
       "5                           0            0               0                 0  \n",
       "\n",
       "[5 rows x 94 columns]"
      ]
     },
     "execution_count": 40,
     "metadata": {},
     "output_type": "execute_result"
    }
   ],
   "source": [
    "basket_sets = basket.applymap(encode_units)\n",
    "\n",
    "basket_sets.head()"
   ]
  },
  {
   "cell_type": "code",
   "execution_count": 41,
   "metadata": {},
   "outputs": [
    {
     "data": {
      "text/html": [
       "<div>\n",
       "<style scoped>\n",
       "    .dataframe tbody tr th:only-of-type {\n",
       "        vertical-align: middle;\n",
       "    }\n",
       "\n",
       "    .dataframe tbody tr th {\n",
       "        vertical-align: top;\n",
       "    }\n",
       "\n",
       "    .dataframe thead th {\n",
       "        text-align: right;\n",
       "    }\n",
       "</style>\n",
       "<table border=\"1\" class=\"dataframe\">\n",
       "  <thead>\n",
       "    <tr style=\"text-align: right;\">\n",
       "      <th>Item</th>\n",
       "      <th>Brownie</th>\n",
       "      <th>Cake</th>\n",
       "      <th>Caramel bites</th>\n",
       "      <th>Cherry me Dried fruit</th>\n",
       "      <th>Chicken Stew</th>\n",
       "      <th>Chicken sand</th>\n",
       "      <th>Chimichurri Oil</th>\n",
       "      <th>Chocolates</th>\n",
       "      <th>Christmas common</th>\n",
       "      <th>Coffee</th>\n",
       "      <th>Coffee granules</th>\n",
       "      <th>Coke</th>\n",
       "      <th>Cookies</th>\n",
       "      <th>Crepes</th>\n",
       "    </tr>\n",
       "    <tr>\n",
       "      <th>Transaction</th>\n",
       "      <th></th>\n",
       "      <th></th>\n",
       "      <th></th>\n",
       "      <th></th>\n",
       "      <th></th>\n",
       "      <th></th>\n",
       "      <th></th>\n",
       "      <th></th>\n",
       "      <th></th>\n",
       "      <th></th>\n",
       "      <th></th>\n",
       "      <th></th>\n",
       "      <th></th>\n",
       "      <th></th>\n",
       "    </tr>\n",
       "  </thead>\n",
       "  <tbody>\n",
       "    <tr>\n",
       "      <th>6884</th>\n",
       "      <td>0</td>\n",
       "      <td>0</td>\n",
       "      <td>0</td>\n",
       "      <td>0</td>\n",
       "      <td>0</td>\n",
       "      <td>0</td>\n",
       "      <td>0</td>\n",
       "      <td>0</td>\n",
       "      <td>0</td>\n",
       "      <td>1</td>\n",
       "      <td>0</td>\n",
       "      <td>0</td>\n",
       "      <td>0</td>\n",
       "      <td>0</td>\n",
       "    </tr>\n",
       "    <tr>\n",
       "      <th>6885</th>\n",
       "      <td>1</td>\n",
       "      <td>0</td>\n",
       "      <td>0</td>\n",
       "      <td>0</td>\n",
       "      <td>0</td>\n",
       "      <td>0</td>\n",
       "      <td>0</td>\n",
       "      <td>0</td>\n",
       "      <td>0</td>\n",
       "      <td>1</td>\n",
       "      <td>0</td>\n",
       "      <td>0</td>\n",
       "      <td>0</td>\n",
       "      <td>0</td>\n",
       "    </tr>\n",
       "    <tr>\n",
       "      <th>6887</th>\n",
       "      <td>0</td>\n",
       "      <td>1</td>\n",
       "      <td>0</td>\n",
       "      <td>0</td>\n",
       "      <td>0</td>\n",
       "      <td>0</td>\n",
       "      <td>0</td>\n",
       "      <td>0</td>\n",
       "      <td>0</td>\n",
       "      <td>1</td>\n",
       "      <td>0</td>\n",
       "      <td>0</td>\n",
       "      <td>0</td>\n",
       "      <td>0</td>\n",
       "    </tr>\n",
       "  </tbody>\n",
       "</table>\n",
       "</div>"
      ],
      "text/plain": [
       "Item         Brownie  Cake  Caramel bites  Cherry me Dried fruit  \\\n",
       "Transaction                                                        \n",
       "6884               0     0              0                      0   \n",
       "6885               1     0              0                      0   \n",
       "6887               0     1              0                      0   \n",
       "\n",
       "Item         Chicken Stew  Chicken sand  Chimichurri Oil  Chocolates  \\\n",
       "Transaction                                                            \n",
       "6884                    0             0                0           0   \n",
       "6885                    0             0                0           0   \n",
       "6887                    0             0                0           0   \n",
       "\n",
       "Item         Christmas common  Coffee  Coffee granules   Coke  Cookies  Crepes  \n",
       "Transaction                                                                     \n",
       "6884                        0       1                 0     0        0       0  \n",
       "6885                        0       1                 0     0        0       0  \n",
       "6887                        0       1                 0     0        0       0  "
      ]
     },
     "execution_count": 41,
     "metadata": {},
     "output_type": "execute_result"
    }
   ],
   "source": [
    "basket_sets[basket_sets.Coffee == 1].iloc[3142:3145,14:28]"
   ]
  },
  {
   "cell_type": "markdown",
   "metadata": {},
   "source": [
    "**Note:** After applying the encoding function, for the same Transaction 6887, the cell value for Coffee has become \"1\" which is what we need for the **Apriori** function."
   ]
  },
  {
   "cell_type": "markdown",
   "metadata": {},
   "source": [
    "***\n",
    "## Generate Frequent Itemsets ##\n",
    "Now, we are ready to generate the frequent item sets. We will set the minimum-support threshold at 1%\n"
   ]
  },
  {
   "cell_type": "code",
   "execution_count": 42,
   "metadata": {},
   "outputs": [],
   "source": [
    "frequent_itemsets = apriori(basket_sets, min_support=0.01, use_colnames=True)"
   ]
  },
  {
   "cell_type": "markdown",
   "metadata": {},
   "source": [
    "## Generate Association Rules ##\n",
    "The final step is to generate the rules with their corresponding support, confidence and lift. We will set the minimum threshold for lift at 1 and then sort the result by descending confidence value."
   ]
  },
  {
   "cell_type": "code",
   "execution_count": 43,
   "metadata": {},
   "outputs": [
    {
     "data": {
      "text/html": [
       "<div>\n",
       "<style scoped>\n",
       "    .dataframe tbody tr th:only-of-type {\n",
       "        vertical-align: middle;\n",
       "    }\n",
       "\n",
       "    .dataframe tbody tr th {\n",
       "        vertical-align: top;\n",
       "    }\n",
       "\n",
       "    .dataframe thead th {\n",
       "        text-align: right;\n",
       "    }\n",
       "</style>\n",
       "<table border=\"1\" class=\"dataframe\">\n",
       "  <thead>\n",
       "    <tr style=\"text-align: right;\">\n",
       "      <th></th>\n",
       "      <th>antecedents</th>\n",
       "      <th>consequents</th>\n",
       "      <th>antecedent support</th>\n",
       "      <th>consequent support</th>\n",
       "      <th>support</th>\n",
       "      <th>confidence</th>\n",
       "      <th>lift</th>\n",
       "      <th>leverage</th>\n",
       "      <th>conviction</th>\n",
       "      <th>zhangs_metric</th>\n",
       "    </tr>\n",
       "  </thead>\n",
       "  <tbody>\n",
       "    <tr>\n",
       "      <th>31</th>\n",
       "      <td>(Toast)</td>\n",
       "      <td>(Coffee)</td>\n",
       "      <td>0.033597</td>\n",
       "      <td>0.478394</td>\n",
       "      <td>0.023666</td>\n",
       "      <td>0.704403</td>\n",
       "      <td>1.472431</td>\n",
       "      <td>0.007593</td>\n",
       "      <td>1.764582</td>\n",
       "      <td>0.332006</td>\n",
       "    </tr>\n",
       "    <tr>\n",
       "      <th>29</th>\n",
       "      <td>(Spanish Brunch)</td>\n",
       "      <td>(Coffee)</td>\n",
       "      <td>0.018172</td>\n",
       "      <td>0.478394</td>\n",
       "      <td>0.010882</td>\n",
       "      <td>0.598837</td>\n",
       "      <td>1.251766</td>\n",
       "      <td>0.002189</td>\n",
       "      <td>1.300235</td>\n",
       "      <td>0.204851</td>\n",
       "    </tr>\n",
       "    <tr>\n",
       "      <th>19</th>\n",
       "      <td>(Medialuna)</td>\n",
       "      <td>(Coffee)</td>\n",
       "      <td>0.061807</td>\n",
       "      <td>0.478394</td>\n",
       "      <td>0.035182</td>\n",
       "      <td>0.569231</td>\n",
       "      <td>1.189878</td>\n",
       "      <td>0.005614</td>\n",
       "      <td>1.210871</td>\n",
       "      <td>0.170091</td>\n",
       "    </tr>\n",
       "    <tr>\n",
       "      <th>23</th>\n",
       "      <td>(Pastry)</td>\n",
       "      <td>(Coffee)</td>\n",
       "      <td>0.086107</td>\n",
       "      <td>0.478394</td>\n",
       "      <td>0.047544</td>\n",
       "      <td>0.552147</td>\n",
       "      <td>1.154168</td>\n",
       "      <td>0.006351</td>\n",
       "      <td>1.164682</td>\n",
       "      <td>0.146161</td>\n",
       "    </tr>\n",
       "    <tr>\n",
       "      <th>0</th>\n",
       "      <td>(Alfajores)</td>\n",
       "      <td>(Coffee)</td>\n",
       "      <td>0.036344</td>\n",
       "      <td>0.478394</td>\n",
       "      <td>0.019651</td>\n",
       "      <td>0.540698</td>\n",
       "      <td>1.130235</td>\n",
       "      <td>0.002264</td>\n",
       "      <td>1.135648</td>\n",
       "      <td>0.119574</td>\n",
       "    </tr>\n",
       "    <tr>\n",
       "      <th>16</th>\n",
       "      <td>(Juice)</td>\n",
       "      <td>(Coffee)</td>\n",
       "      <td>0.038563</td>\n",
       "      <td>0.478394</td>\n",
       "      <td>0.020602</td>\n",
       "      <td>0.534247</td>\n",
       "      <td>1.116750</td>\n",
       "      <td>0.002154</td>\n",
       "      <td>1.119919</td>\n",
       "      <td>0.108738</td>\n",
       "    </tr>\n",
       "    <tr>\n",
       "      <th>25</th>\n",
       "      <td>(Sandwich)</td>\n",
       "      <td>(Coffee)</td>\n",
       "      <td>0.071844</td>\n",
       "      <td>0.478394</td>\n",
       "      <td>0.038246</td>\n",
       "      <td>0.532353</td>\n",
       "      <td>1.112792</td>\n",
       "      <td>0.003877</td>\n",
       "      <td>1.115384</td>\n",
       "      <td>0.109205</td>\n",
       "    </tr>\n",
       "    <tr>\n",
       "      <th>7</th>\n",
       "      <td>(Cake)</td>\n",
       "      <td>(Coffee)</td>\n",
       "      <td>0.103856</td>\n",
       "      <td>0.478394</td>\n",
       "      <td>0.054728</td>\n",
       "      <td>0.526958</td>\n",
       "      <td>1.101515</td>\n",
       "      <td>0.005044</td>\n",
       "      <td>1.102664</td>\n",
       "      <td>0.102840</td>\n",
       "    </tr>\n",
       "    <tr>\n",
       "      <th>27</th>\n",
       "      <td>(Scone)</td>\n",
       "      <td>(Coffee)</td>\n",
       "      <td>0.034548</td>\n",
       "      <td>0.478394</td>\n",
       "      <td>0.018067</td>\n",
       "      <td>0.522936</td>\n",
       "      <td>1.093107</td>\n",
       "      <td>0.001539</td>\n",
       "      <td>1.093366</td>\n",
       "      <td>0.088224</td>\n",
       "    </tr>\n",
       "    <tr>\n",
       "      <th>13</th>\n",
       "      <td>(Cookies)</td>\n",
       "      <td>(Coffee)</td>\n",
       "      <td>0.054411</td>\n",
       "      <td>0.478394</td>\n",
       "      <td>0.028209</td>\n",
       "      <td>0.518447</td>\n",
       "      <td>1.083723</td>\n",
       "      <td>0.002179</td>\n",
       "      <td>1.083174</td>\n",
       "      <td>0.081700</td>\n",
       "    </tr>\n",
       "  </tbody>\n",
       "</table>\n",
       "</div>"
      ],
      "text/plain": [
       "         antecedents consequents  antecedent support  consequent support  \\\n",
       "31           (Toast)    (Coffee)            0.033597            0.478394   \n",
       "29  (Spanish Brunch)    (Coffee)            0.018172            0.478394   \n",
       "19       (Medialuna)    (Coffee)            0.061807            0.478394   \n",
       "23          (Pastry)    (Coffee)            0.086107            0.478394   \n",
       "0        (Alfajores)    (Coffee)            0.036344            0.478394   \n",
       "16           (Juice)    (Coffee)            0.038563            0.478394   \n",
       "25        (Sandwich)    (Coffee)            0.071844            0.478394   \n",
       "7             (Cake)    (Coffee)            0.103856            0.478394   \n",
       "27           (Scone)    (Coffee)            0.034548            0.478394   \n",
       "13         (Cookies)    (Coffee)            0.054411            0.478394   \n",
       "\n",
       "     support  confidence      lift  leverage  conviction  zhangs_metric  \n",
       "31  0.023666    0.704403  1.472431  0.007593    1.764582       0.332006  \n",
       "29  0.010882    0.598837  1.251766  0.002189    1.300235       0.204851  \n",
       "19  0.035182    0.569231  1.189878  0.005614    1.210871       0.170091  \n",
       "23  0.047544    0.552147  1.154168  0.006351    1.164682       0.146161  \n",
       "0   0.019651    0.540698  1.130235  0.002264    1.135648       0.119574  \n",
       "16  0.020602    0.534247  1.116750  0.002154    1.119919       0.108738  \n",
       "25  0.038246    0.532353  1.112792  0.003877    1.115384       0.109205  \n",
       "7   0.054728    0.526958  1.101515  0.005044    1.102664       0.102840  \n",
       "27  0.018067    0.522936  1.093107  0.001539    1.093366       0.088224  \n",
       "13  0.028209    0.518447  1.083723  0.002179    1.083174       0.081700  "
      ]
     },
     "execution_count": 43,
     "metadata": {},
     "output_type": "execute_result"
    }
   ],
   "source": [
    "rules = association_rules(frequent_itemsets, metric=\"lift\", min_threshold=1)\n",
    "rules.sort_values(\"confidence\", ascending = False, inplace = True)\n",
    "rules.head(10)"
   ]
  },
  {
   "cell_type": "markdown",
   "metadata": {},
   "source": [
    "## Interpretation and Implications ##\n",
    "All of the itemsets in the output above have support values more than 1% and lift values greater than 1, and the top 10 itemsets are sorted by confidence value. With a support value of 0.023666, the association rule \"if Toast then Coffee\" is displayed in the first itemset. This indicates that about 2.4% of all transactions involve the purchase of both toast and coffee together. Additionally, we are 70% certain that a coffee sale will occur anytime a toast is bought. The purchase of Toast does affect the purchase of Coffee, as evidenced by the lift value of 1.47 (higher than 1), rather than the purchase of Coffee being independent of the purchase of Toast. The purchase of Toast increases the purchase of Coffee by 1.47 times, as indicated by the lift value of 1.47.\n",
    "\n",
    "We can therefore draw the conclusion that there is evidence to support the hypothesis that buying toast precedes buying coffee. Since customers are more likely to buy coffee and toast together, the owner of \"The Bread Basket\" bakery should think about selling coffee and toast as a breakfast or lunch set. The staff should also be trained to cross-sell coffee to toast buyers. This will increase the store's revenue."
   ]
  }
 ],
 "metadata": {
  "kernelspec": {
   "display_name": "Python 3",
   "language": "python",
   "name": "python3"
  },
  "language_info": {
   "codemirror_mode": {
    "name": "ipython",
    "version": 3
   },
   "file_extension": ".py",
   "mimetype": "text/x-python",
   "name": "python",
   "nbconvert_exporter": "python",
   "pygments_lexer": "ipython3",
   "version": "3.8.8"
  }
 },
 "nbformat": 4,
 "nbformat_minor": 2
}
